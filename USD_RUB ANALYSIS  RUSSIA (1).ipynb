{
 "cells": [
  {
   "cell_type": "markdown",
   "id": "baef2a8a",
   "metadata": {},
   "source": [
    "### OBJECTIVE\n",
    "\n",
    "The objective of this project is to assess "
   ]
  },
  {
   "cell_type": "code",
   "execution_count": 1,
   "id": "87007850",
   "metadata": {},
   "outputs": [],
   "source": [
    "#Importing necessary libraries \n",
    "\n",
    "import pandas as pd\n",
    "import matplotlib.pyplot as plt\n",
    "%matplotlib notebook\n",
    "import pandas_datareader as pdr \n",
    "import datetime as dt\n",
    "import numpy as np\n",
    "from matplotlib.dates import DateFormatter\n",
    "%matplotlib inline\n",
    "import seaborn as sns\n",
    "import statsmodels.api as sm \n"
   ]
  },
  {
   "cell_type": "code",
   "execution_count": 2,
   "id": "8536370d",
   "metadata": {},
   "outputs": [],
   "source": [
    "# Get data from yahoo finance using pandas_datareader\n",
    "\n",
    "ticker =['RUB=X']\n",
    "start = dt.datetime(2020, 1, 1)\n",
    "\n",
    "data = pdr.get_data_yahoo(ticker, start)\n"
   ]
  },
  {
   "cell_type": "markdown",
   "id": "e5083f8e",
   "metadata": {},
   "source": [
    "### DATA CLEANING"
   ]
  },
  {
   "cell_type": "code",
   "execution_count": 3,
   "id": "b619d118",
   "metadata": {},
   "outputs": [
    {
     "data": {
      "text/html": [
       "<div>\n",
       "<style scoped>\n",
       "    .dataframe tbody tr th:only-of-type {\n",
       "        vertical-align: middle;\n",
       "    }\n",
       "\n",
       "    .dataframe tbody tr th {\n",
       "        vertical-align: top;\n",
       "    }\n",
       "\n",
       "    .dataframe thead tr th {\n",
       "        text-align: left;\n",
       "    }\n",
       "\n",
       "    .dataframe thead tr:last-of-type th {\n",
       "        text-align: right;\n",
       "    }\n",
       "</style>\n",
       "<table border=\"1\" class=\"dataframe\">\n",
       "  <thead>\n",
       "    <tr>\n",
       "      <th>Attributes</th>\n",
       "      <th>Adj Close</th>\n",
       "      <th>Close</th>\n",
       "      <th>High</th>\n",
       "      <th>Low</th>\n",
       "      <th>Open</th>\n",
       "      <th>Volume</th>\n",
       "      <th>Date</th>\n",
       "    </tr>\n",
       "    <tr>\n",
       "      <th>Symbols</th>\n",
       "      <th>RUB=X</th>\n",
       "      <th>RUB=X</th>\n",
       "      <th>RUB=X</th>\n",
       "      <th>RUB=X</th>\n",
       "      <th>RUB=X</th>\n",
       "      <th>RUB=X</th>\n",
       "      <th></th>\n",
       "    </tr>\n",
       "    <tr>\n",
       "      <th>Date</th>\n",
       "      <th></th>\n",
       "      <th></th>\n",
       "      <th></th>\n",
       "      <th></th>\n",
       "      <th></th>\n",
       "      <th></th>\n",
       "      <th></th>\n",
       "    </tr>\n",
       "  </thead>\n",
       "  <tbody>\n",
       "    <tr>\n",
       "      <th>2020-01-01</th>\n",
       "      <td>62.028301</td>\n",
       "      <td>62.028301</td>\n",
       "      <td>62.028301</td>\n",
       "      <td>62.028301</td>\n",
       "      <td>62.028301</td>\n",
       "      <td>0</td>\n",
       "      <td>2020-01-01</td>\n",
       "    </tr>\n",
       "    <tr>\n",
       "      <th>2020-01-02</th>\n",
       "      <td>61.830002</td>\n",
       "      <td>61.830002</td>\n",
       "      <td>62.147999</td>\n",
       "      <td>61.563000</td>\n",
       "      <td>61.830002</td>\n",
       "      <td>0</td>\n",
       "      <td>2020-01-02</td>\n",
       "    </tr>\n",
       "    <tr>\n",
       "      <th>2020-01-03</th>\n",
       "      <td>61.694199</td>\n",
       "      <td>61.694199</td>\n",
       "      <td>62.224998</td>\n",
       "      <td>61.694199</td>\n",
       "      <td>61.694199</td>\n",
       "      <td>0</td>\n",
       "      <td>2020-01-03</td>\n",
       "    </tr>\n",
       "    <tr>\n",
       "      <th>2020-01-06</th>\n",
       "      <td>62.029999</td>\n",
       "      <td>62.029999</td>\n",
       "      <td>62.323002</td>\n",
       "      <td>61.717499</td>\n",
       "      <td>62.013802</td>\n",
       "      <td>0</td>\n",
       "      <td>2020-01-06</td>\n",
       "    </tr>\n",
       "    <tr>\n",
       "      <th>2020-01-07</th>\n",
       "      <td>61.775002</td>\n",
       "      <td>61.775002</td>\n",
       "      <td>62.086201</td>\n",
       "      <td>61.591702</td>\n",
       "      <td>61.775101</td>\n",
       "      <td>0</td>\n",
       "      <td>2020-01-07</td>\n",
       "    </tr>\n",
       "  </tbody>\n",
       "</table>\n",
       "</div>"
      ],
      "text/plain": [
       "Attributes  Adj Close      Close       High        Low       Open Volume  \\\n",
       "Symbols         RUB=X      RUB=X      RUB=X      RUB=X      RUB=X  RUB=X   \n",
       "Date                                                                       \n",
       "2020-01-01  62.028301  62.028301  62.028301  62.028301  62.028301      0   \n",
       "2020-01-02  61.830002  61.830002  62.147999  61.563000  61.830002      0   \n",
       "2020-01-03  61.694199  61.694199  62.224998  61.694199  61.694199      0   \n",
       "2020-01-06  62.029999  62.029999  62.323002  61.717499  62.013802      0   \n",
       "2020-01-07  61.775002  61.775002  62.086201  61.591702  61.775101      0   \n",
       "\n",
       "Attributes       Date  \n",
       "Symbols                \n",
       "Date                   \n",
       "2020-01-01 2020-01-01  \n",
       "2020-01-02 2020-01-02  \n",
       "2020-01-03 2020-01-03  \n",
       "2020-01-06 2020-01-06  \n",
       "2020-01-07 2020-01-07  "
      ]
     },
     "execution_count": 3,
     "metadata": {},
     "output_type": "execute_result"
    }
   ],
   "source": [
    "data['Date'] = data.index\n",
    "data.head(5)"
   ]
  },
  {
   "cell_type": "code",
   "execution_count": 4,
   "id": "c276e1bd",
   "metadata": {},
   "outputs": [
    {
     "data": {
      "text/plain": [
       "MultiIndex([('Adj Close', 'RUB=X'),\n",
       "            (    'Close', 'RUB=X'),\n",
       "            (     'High', 'RUB=X'),\n",
       "            (      'Low', 'RUB=X'),\n",
       "            (     'Open', 'RUB=X'),\n",
       "            (   'Volume', 'RUB=X'),\n",
       "            (     'Date',      '')],\n",
       "           names=['Attributes', 'Symbols'])"
      ]
     },
     "execution_count": 4,
     "metadata": {},
     "output_type": "execute_result"
    }
   ],
   "source": [
    "data.columns"
   ]
  },
  {
   "cell_type": "code",
   "execution_count": 5,
   "id": "6ae7d6ca",
   "metadata": {},
   "outputs": [],
   "source": [
    "data.columns = ['Adj_close','Close','High', 'Low', 'Open','Volume', 'Date']"
   ]
  },
  {
   "cell_type": "code",
   "execution_count": 6,
   "id": "f4e353a8",
   "metadata": {},
   "outputs": [],
   "source": [
    "data= data.drop(['Close','High', 'Low', 'Open','Volume'], axis =1)"
   ]
  },
  {
   "cell_type": "code",
   "execution_count": 7,
   "id": "461d88a2",
   "metadata": {},
   "outputs": [
    {
     "data": {
      "text/plain": [
       "Adj_close    0\n",
       "Date         0\n",
       "dtype: int64"
      ]
     },
     "execution_count": 7,
     "metadata": {},
     "output_type": "execute_result"
    }
   ],
   "source": [
    "data.isnull().sum()"
   ]
  },
  {
   "cell_type": "code",
   "execution_count": 8,
   "id": "b81b3f7f",
   "metadata": {},
   "outputs": [
    {
     "data": {
      "image/png": "[encoded data removed]",
      "text/plain": [
       "<Figure size 1440x720 with 1 Axes>"
      ]
     },
     "metadata": {
      "needs_background": "light"
     },
     "output_type": "display_data"
    }
   ],
   "source": [
    "#Adj price till date\n",
    "data['Adj_close'].plot(figsize = (20,10))\n",
    "\n",
    "plt.title('USD/RUB ADJUSTED CLOSE PRICE FROM JAN 2020 - DATE');"
   ]
  },
  {
   "cell_type": "code",
   "execution_count": 9,
   "id": "66a9ce3d",
   "metadata": {},
   "outputs": [
    {
     "data": {
      "text/html": [
       "<div>\n",
       "<style scoped>\n",
       "    .dataframe tbody tr th:only-of-type {\n",
       "        vertical-align: middle;\n",
       "    }\n",
       "\n",
       "    .dataframe tbody tr th {\n",
       "        vertical-align: top;\n",
       "    }\n",
       "\n",
       "    .dataframe thead th {\n",
       "        text-align: right;\n",
       "    }\n",
       "</style>\n",
       "<table border=\"1\" class=\"dataframe\">\n",
       "  <thead>\n",
       "    <tr style=\"text-align: right;\">\n",
       "      <th></th>\n",
       "      <th>Adj_close</th>\n",
       "      <th>Date</th>\n",
       "    </tr>\n",
       "    <tr>\n",
       "      <th>Date</th>\n",
       "      <th></th>\n",
       "      <th></th>\n",
       "    </tr>\n",
       "  </thead>\n",
       "  <tbody>\n",
       "    <tr>\n",
       "      <th>2022-06-28</th>\n",
       "      <td>53.714901</td>\n",
       "      <td>2022-06-28</td>\n",
       "    </tr>\n",
       "    <tr>\n",
       "      <th>2022-06-29</th>\n",
       "      <td>52.465099</td>\n",
       "      <td>2022-06-29</td>\n",
       "    </tr>\n",
       "    <tr>\n",
       "      <th>2022-06-30</th>\n",
       "      <td>54.840000</td>\n",
       "      <td>2022-06-30</td>\n",
       "    </tr>\n",
       "    <tr>\n",
       "      <th>2022-07-03</th>\n",
       "      <td>53.237499</td>\n",
       "      <td>2022-07-03</td>\n",
       "    </tr>\n",
       "    <tr>\n",
       "      <th>2022-07-04</th>\n",
       "      <td>56.250000</td>\n",
       "      <td>2022-07-04</td>\n",
       "    </tr>\n",
       "  </tbody>\n",
       "</table>\n",
       "</div>"
      ],
      "text/plain": [
       "            Adj_close       Date\n",
       "Date                            \n",
       "2022-06-28  53.714901 2022-06-28\n",
       "2022-06-29  52.465099 2022-06-29\n",
       "2022-06-30  54.840000 2022-06-30\n",
       "2022-07-03  53.237499 2022-07-03\n",
       "2022-07-04  56.250000 2022-07-04"
      ]
     },
     "execution_count": 9,
     "metadata": {},
     "output_type": "execute_result"
    }
   ],
   "source": [
    "data.tail()"
   ]
  },
  {
   "cell_type": "markdown",
   "id": "1c7b65fe",
   "metadata": {},
   "source": [
    "## INTRODUCTION TO TIME SERIES ANALYSIS"
   ]
  },
  {
   "cell_type": "markdown",
   "id": "1b20ed20",
   "metadata": {},
   "source": [
    "### DECOMPOSING THE DATA  \n",
    "\n",
    "\n",
    "- Real world data is not stationary most times and is governed by Trends, Seasonal, and Residual/Noise components that are deterministic.\n",
    "\n",
    "\n",
    "- In order to remove these deterministic components, we DECOMPOSE all the components from the data and try to make it stationary, using\n",
    "\n",
    "            - Additive Time Series = T + S + Residual/Noise\n",
    "            \n",
    "                    OR \n",
    "                    \n",
    "            - Multiplicative Time Series = T * S * Residual/Noise\n",
    "            \n",
    "- Where Additive is the sum of all components and Multiplicative is the product of the components.\n",
    "\n",
    "\n",
    "- These components are decomposed in orders;\n",
    "\n",
    "\n",
    "   - TREND : Trend can be calculated by either using \n",
    "          \n",
    "      - Moving Average (Does not work well if the timeseries includes period of inactivity)\n",
    "          \n",
    "      - Median(works well with outliers)\n",
    "            \n",
    " \n",
    " \n",
    "  - SEASONALITY: Seasonality can be derived by getting the mean value of the detrended(value -trend (for additive time series) and value/trend (for multiplicative time series)) observations\n",
    "  \n",
    "  \n",
    "    \n",
    "  - RESIDUAL : residual can be calculated by either subtracting the seasonality from detrended(detrended - seasonality) or diving detrended by seasonality(detrended/seasonality), each fomulas are additive and multiplicative time series respectively\n",
    "  \n",
    "\n",
    "\n",
    "# ALL THESE CAN BE VISUALIZED BELOW"
   ]
  },
  {
   "cell_type": "code",
   "execution_count": 10,
   "id": "140ea014",
   "metadata": {},
   "outputs": [
    {
     "data": {
      "image/png": "[encoded data removed]",
      "text/plain": [
       "<Figure size 1008x144 with 1 Axes>"
      ]
     },
     "metadata": {
      "needs_background": "light"
     },
     "output_type": "display_data"
    },
    {
     "data": {
      "image/png": "[encoded data removed]",
      "text/plain": [
       "<Figure size 1008x144 with 1 Axes>"
      ]
     },
     "metadata": {
      "needs_background": "light"
     },
     "output_type": "display_data"
    },
    {
     "data": {
      "image/png": "[encoded data removed]",
      "text/plain": [
       "<Figure size 1008x144 with 1 Axes>"
      ]
     },
     "metadata": {
      "needs_background": "light"
     },
     "output_type": "display_data"
    }
   ],
   "source": [
    "## ADDITIVE TIME SERIES\n",
    "\n",
    "decomposition = sm.tsa.seasonal_decompose(x = data['Adj_close'], model= 'additive',\n",
    "                                         extrapolate_trend = 'freq', period =30)\n",
    "\n",
    "plt.show()\n",
    "\n",
    "# Decomposing the Trend and Seasonality\n",
    "decom_trend = decomposition.trend\n",
    "ax = decom_trend.plot(figsize=(14,2))\n",
    "ax.set_xlabel('Date')\n",
    "ax.set_ylabel('Trend of time series')\n",
    "ax.set_title('Trend value of the time series')\n",
    "plt.show()\n",
    "\n",
    "\n",
    "decom_season = decomposition.seasonal\n",
    "ax = decom_season.plot(figsize=(14,2))\n",
    "ax.set_xlabel('Date')\n",
    "ax.set_ylabel('Seasonality of time series')\n",
    "ax.set_title('Seasonal value of the time series')\n",
    "plt.show()\n",
    "\n",
    "\n",
    "# Calculating the Residual\n",
    "decom_residual = decomposition.resid\n",
    "ax = decom_residual.plot(figsize = (14,2))\n",
    "ax.set_xlabel('Date')\n",
    "ax.set_ylabel('Residual of time series')\n",
    "ax.set_title('Residual values of the time series')\n",
    "plt.show()"
   ]
  },
  {
   "cell_type": "code",
   "execution_count": 11,
   "id": "7836aa64",
   "metadata": {},
   "outputs": [
    {
     "data": {
      "image/png": "[encoded data removed]",
      "text/plain": [
       "<Figure size 1008x144 with 1 Axes>"
      ]
     },
     "metadata": {
      "needs_background": "light"
     },
     "output_type": "display_data"
    },
    {
     "data": {
      "image/png": "[encoded data removed]",
      "text/plain": [
       "<Figure size 1008x144 with 1 Axes>"
      ]
     },
     "metadata": {
      "needs_background": "light"
     },
     "output_type": "display_data"
    },
    {
     "data": {
      "image/png": "[encoded data removed]",
      "text/plain": [
       "<Figure size 1008x144 with 1 Axes>"
      ]
     },
     "metadata": {
      "needs_background": "light"
     },
     "output_type": "display_data"
    }
   ],
   "source": [
    "#MULTIPLICATIVE TIME SERIES\n",
    "\n",
    "\n",
    "decomposition = sm.tsa.seasonal_decompose(x = data['Adj_close'], model= 'multiplicative',\n",
    "                                         extrapolate_trend = 'freq', period =30)\n",
    "\n",
    "plt.show()\n",
    "\n",
    "\n",
    "\n",
    "\n",
    "\n",
    "# Decomposing the Trend and Seasonality\n",
    "\n",
    "decom_trend = decomposition.trend\n",
    "ax = decom_trend.plot(figsize=(14,2))\n",
    "ax.set_xlabel('Date')\n",
    "ax.set_ylabel('Trend of time series')\n",
    "ax.set_title('Trend value of the time series')\n",
    "plt.show()\n",
    "\n",
    "\n",
    "\n",
    "\n",
    "decom_season = decomposition.seasonal\n",
    "ax = decom_season.plot(figsize=(14,2))\n",
    "ax.set_xlabel('Date')\n",
    "ax.set_ylabel('Seasonality of time series')\n",
    "ax.set_title('Seasonal value of the time series')\n",
    "plt.show()\n",
    "\n",
    "\n",
    "# Calculating the Residual\n",
    "decom_residual = decomposition.resid\n",
    "ax = decom_residual.plot(figsize = (14,2))\n",
    "ax.set_xlabel('Date')\n",
    "ax.set_ylabel('Residual of time series')\n",
    "ax.set_title('Residual values of the time series')\n",
    "plt.show()"
   ]
  },
  {
   "cell_type": "code",
   "execution_count": 12,
   "id": "5d2ef6ca",
   "metadata": {},
   "outputs": [
    {
     "data": {
      "text/plain": [
       "Date\n",
       "2020-01-01    62.028301\n",
       "2020-01-02    61.830002\n",
       "2020-01-03    61.694199\n",
       "2020-01-06    62.029999\n",
       "2020-01-07    61.775002\n",
       "                ...    \n",
       "2022-06-28    53.714901\n",
       "2022-06-29    52.465099\n",
       "2022-06-30    54.840000\n",
       "2022-07-03    53.237499\n",
       "2022-07-04    56.250000\n",
       "Name: Adj_close, Length: 655, dtype: float64"
      ]
     },
     "execution_count": 12,
     "metadata": {},
     "output_type": "execute_result"
    }
   ],
   "source": [
    "data['Adj_close']"
   ]
  },
  {
   "cell_type": "markdown",
   "id": "f2700e30",
   "metadata": {},
   "source": [
    "# ASSESSING FOR FIT AND CORRELATION\n",
    "\n",
    "- This section test for direct and/or indirect correlation in the time series. Using Auto-correlation function(ACF) or Partial auto-correlation function(PCF).\n",
    "\n",
    "\n",
    "\n",
    "- ACF: ACF includes the direct and indirect correlation over a period of time. In this project we are looking at period of 30 days(lag =30). ACF is used to determine the lag which is represented by q in the ARIMA model. In this case q = 17 where 17 is the spike that is right above the confidence intereval before the preceeding spikes below the confidence interval(See graph below) Pic 1\n",
    "\n",
    "\n",
    "\n",
    "- PACF: Taking all the indirect effect away. Shows the direct correlation in the time series over a period of time(lag=30). PACF is used to determine the lag which is represented by p in the ARIMA model. In this case p = 2 where 2 is the spike that is right above the confidence intereval before the preceeding spikes below the confidence interval(See graph below)Pic 2\n",
    "\n",
    "\n",
    "\n",
    "\n",
    "\n"
   ]
  },
  {
   "cell_type": "code",
   "execution_count": 13,
   "id": "0f6b4044",
   "metadata": {},
   "outputs": [
    {
     "data": {
      "image/png": "[encoded data removed]",
      "text/plain": [
       "<Figure size 432x288 with 1 Axes>"
      ]
     },
     "metadata": {
      "needs_background": "light"
     },
     "output_type": "display_data"
    },
    {
     "data": {
      "image/png": "[encoded data removed]",
      "text/plain": [
       "<Figure size 432x288 with 1 Axes>"
      ]
     },
     "metadata": {
      "needs_background": "light"
     },
     "output_type": "display_data"
    }
   ],
   "source": [
    "sm.graphics.tsa.plot_acf(data['Adj_close'].squeeze(),lags=30) #plotting the acf graph for a time period of 15days\n",
    "\n",
    "sm.graphics.tsa.plot_pacf(data['Adj_close'].squeeze(),lags=30) #plotting the pacf graph for a time period of 15days\n",
    "plt.show()\n",
    "\n",
    "# The shaded area in the graph represents the confidence interval. While ignoring the spike at lag 0 \n",
    "#"
   ]
  },
  {
   "cell_type": "markdown",
   "id": "392ab62f",
   "metadata": {},
   "source": [
    "# HYPOTHESIS TESTING\n",
    "\n",
    "- Define my Hypothesis : Testing if the  data is stationary or not stationary\n",
    "\n",
    "- Null and Alternative Hypothesis : Null hypothesis is the hypothesis we want to reject. We know it exist, so there is no need hypothezing. Alternative Hypothesis is what we are testing and want to Accept.\n",
    "\n",
    "- Calculate Test statistic - In this project we would be using ADF and Kpss\n",
    "\n",
    "- Calculate the critical value or confidence interval\n",
    "\n",
    "- Conclusion (Accept or Fail to Reject the Null Hypothesis)\n",
    "\n",
    "\n",
    "\n",
    "\n",
    "\n",
    "\n",
    "\n",
    "FAMILIAR TERMS:\n",
    "\n",
    "CONFIDENCE INTERVAL - In my own words, this is the level of confidence/certainity you have in the observation. It can be as low as 0% or as high as 99%. If the test statistics falls within the confidence interval then we \"FAIL TO REJECT\" the null hypothesis. On the otherhand, if it falls outside the confidence interval then we \"REJECT\" the null hypothesis.\n",
    "\n",
    "\n",
    "CRITICAL INTERVAL - There is a calculation for this, but in my own words it calculates the upper and lower range of confidence. If the Test statistic is within this range we \"FAIL TO REJECT\" the null hypothesis, otherwise we \"REJECT\" the hypothesis\n",
    "\n",
    "SIGNIFICANCE LEVEL - This is the remaining part of the confidence interval. If you have a 99% confidence interval, then your significance level is 1%\n",
    "\n",
    "DEGREE OF FREEDOM - Its nothing but (n-1), where n is the total number of all observations. \n",
    "\n",
    "P-value - This is the lowest point to reject the null hypothesis. It can be addition or an alternative to the Confidence interval. If the Pvalue is below the Confidence level then we \"REJECT\" the null hypothesis otherwise we \"FAIL TO REJECT\""
   ]
  },
  {
   "cell_type": "code",
   "execution_count": 14,
   "id": "0fb2fe98",
   "metadata": {},
   "outputs": [],
   "source": [
    "#Importing the kpss test statistics\n",
    "from statsmodels.tsa.stattools import kpss"
   ]
  },
  {
   "cell_type": "code",
   "execution_count": 15,
   "id": "6342b861",
   "metadata": {},
   "outputs": [
    {
     "name": "stderr",
     "output_type": "stream",
     "text": [
      "c:\\Users\\omolola.omotalade\\Anaconda3\\lib\\site-packages\\statsmodels\\tsa\\stattools.py:1875: FutureWarning: The behavior of using nlags=None will change in release 0.13.Currently nlags=None is the same as nlags=\"legacy\", and so a sample-size lag length is used. After the next release, the default will change to be the same as nlags=\"auto\" which uses an automatic lag length selection method. To silence this warning, either use \"auto\" or \"legacy\"\n",
      "  warnings.warn(msg, FutureWarning)\n",
      "c:\\Users\\omolola.omotalade\\Anaconda3\\lib\\site-packages\\statsmodels\\tsa\\stattools.py:1910: InterpolationWarning: The test statistic is outside of the range of p-values available in the\n",
      "look-up table. The actual p-value is greater than the p-value returned.\n",
      "\n",
      "  warnings.warn(\n"
     ]
    }
   ],
   "source": [
    "tstest = kpss(data['Adj_close'], 'ct')"
   ]
  },
  {
   "cell_type": "code",
   "execution_count": 16,
   "id": "480b7b43",
   "metadata": {},
   "outputs": [
    {
     "name": "stdout",
     "output_type": "stream",
     "text": [
      "kpss Statistic: 0.07\n",
      "p-value: 0.10\n",
      "Critical Values:\n",
      "\t 10%: 0.119\n",
      "\t 5%: 0.146\n",
      "\t 2.5%: 0.176\n",
      "\t 1%: 0.216\n"
     ]
    }
   ],
   "source": [
    "#H0 = The data is trend stationary\n",
    "\n",
    "#H1 = The data is not trend stationary\n",
    "\n",
    "\n",
    "print(f'kpss Statistic: {tstest[0]:.2f}')\n",
    "print(f'p-value: {tstest[1]:.2f}')\n",
    "print('Critical Values:')\n",
    "for key, value in tstest[3].items():\n",
    "        print(f'\\t {key}: {value:.3f}')\n",
    "        \n",
    "\n",
    "# Since Test statistics is within the lowest critical value, We fail to reject the null hypothesis. Kpps says data is\n",
    "#stationary"
   ]
  },
  {
   "cell_type": "code",
   "execution_count": 17,
   "id": "12bbc18e",
   "metadata": {},
   "outputs": [
    {
     "name": "stdout",
     "output_type": "stream",
     "text": [
      "ADF Statistic: -3.81\n",
      "p-value: 0.00\n",
      "Critical Values:\n",
      "\t 1%: -3.482\n",
      "\t 5%: -2.884\n",
      "\t 10%: -2.579\n"
     ]
    }
   ],
   "source": [
    "#H0 = The data is non trend stationary\n",
    "\n",
    "#H1 = The data is stationary or trend stationary\n",
    "\n",
    "\n",
    "adf = sm.tsa.stattools.adfuller(data.resample(\"W\").mean().Adj_close)\n",
    "\n",
    "\n",
    "print(f'ADF Statistic: {adf[0]:.2f}')\n",
    "print(f'p-value: {adf[1]:.2f}')\n",
    "print('Critical Values:')\n",
    "for key, value in adf[4].items():\n",
    "        print(f'\\t {key}: {value:.3f}')\n",
    "\n",
    "\n",
    "# ADF statistic falls outside the critical value in the lowest significance level,\n",
    "# so we REJECT the null hypothesis"
   ]
  },
  {
   "cell_type": "markdown",
   "id": "74e36d44",
   "metadata": {},
   "source": [
    "# CROSS VALIDATION\n",
    "This simply validates the proper way to split your data for forecasting and prediction. When making predictions, we need to split our data into train and test. Train data is the data we train the machine with and the test data of the independent variables(x) is what we feed our machine with to predict the target variable(y).\n",
    "\n",
    "Time series data must be splitted in an orderly form rather than randomly. For instance, if I want to predict the price of Russian Ruble against the USD for the next day, I would need previous days price to make this predictions."
   ]
  },
  {
   "cell_type": "code",
   "execution_count": 18,
   "id": "a1d5406a",
   "metadata": {},
   "outputs": [],
   "source": [
    "from sklearn.model_selection import train_test_split, KFold, TimeSeriesSplit"
   ]
  },
  {
   "cell_type": "markdown",
   "id": "96ef31f9",
   "metadata": {},
   "source": [
    "###  Train_Test_Split"
   ]
  },
  {
   "cell_type": "code",
   "execution_count": 19,
   "id": "de3dfeba",
   "metadata": {},
   "outputs": [
    {
     "data": {
      "text/plain": [
       "[]"
      ]
     },
     "execution_count": 19,
     "metadata": {},
     "output_type": "execute_result"
    },
    {
     "data": {
      "image/png": "[encoded data removed]",
      "text/plain": [
       "<Figure size 720x720 with 1 Axes>"
      ]
     },
     "metadata": {
      "needs_background": "light"
     },
     "output_type": "display_data"
    }
   ],
   "source": [
    "fig, axs = plt.subplots(figsize=[10, 10])\n",
    "\n",
    "train, test = train_test_split(data[[\"Adj_close\"]])\n",
    "\n",
    "axs.plot(train, 'k.', lw=1, label=\"Training Data\")\n",
    "axs.plot(test,'r.', lw=1, label=\"Test Data\")\n",
    "axs.set_xlim([dt.date(2020, 1, 1), dt.date(2022, 6, 25)])\n",
    "axs.set_ylim([0, 200])\n",
    "axs.set_title(f\"Random split of a timeseries\")\n",
    "axs.legend()\n",
    "plt.plot()"
   ]
  },
  {
   "cell_type": "markdown",
   "id": "2eda917a",
   "metadata": {},
   "source": [
    "###  KFOLD"
   ]
  },
  {
   "cell_type": "code",
   "execution_count": 20,
   "id": "e125c4e6",
   "metadata": {},
   "outputs": [],
   "source": [
    "cv = KFold()"
   ]
  },
  {
   "cell_type": "code",
   "execution_count": 21,
   "id": "0cacbfb2",
   "metadata": {},
   "outputs": [
    {
     "data": {
      "image/png": "[encoded data removed]",
      "text/plain": [
       "<Figure size 2160x360 with 5 Axes>"
      ]
     },
     "metadata": {
      "needs_background": "light"
     },
     "output_type": "display_data"
    }
   ],
   "source": [
    "fig, axs = plt.subplots(ncols=5, figsize=[30, 5])\n",
    "\n",
    "for i, (train_index, val_index) in enumerate(cv.split(data['Adj_close'])):\n",
    "    axs[i].plot(data.Adj_close[train_index], 'k', lw=1, label=\"Training Data\")\n",
    "    axs[i].plot(data.Adj_close[val_index],'r', lw=1, label=\"Test Data\")\n",
    "    axs[i].set_xlim([dt.date(2020, 1, 1), dt.date(2022, 6, 25)])\n",
    "    axs[i].set_ylim([0, 200])\n",
    "    axs[i].set_title(f\"Fold {i} for timeseries\")\n",
    "    if not i:\n",
    "        axs[0].legend()\n",
    "        plt.plot()\n"
   ]
  },
  {
   "cell_type": "markdown",
   "id": "0155800a",
   "metadata": {},
   "source": [
    "### Time Series Cross Validation"
   ]
  },
  {
   "cell_type": "code",
   "execution_count": 22,
   "id": "5a60b25f",
   "metadata": {},
   "outputs": [
    {
     "data": {
      "text/plain": [
       "TimeSeriesSplit(gap=0, max_train_size=None, n_splits=5, test_size=None)"
      ]
     },
     "execution_count": 22,
     "metadata": {},
     "output_type": "execute_result"
    }
   ],
   "source": [
    "tscv = TimeSeriesSplit()\n",
    "tscv"
   ]
  },
  {
   "cell_type": "code",
   "execution_count": 23,
   "id": "165d7f5d",
   "metadata": {},
   "outputs": [
    {
     "data": {
      "image/png": "[encoded data removed]",
      "text/plain": [
       "<Figure size 1800x360 with 5 Axes>"
      ]
     },
     "metadata": {
      "needs_background": "light"
     },
     "output_type": "display_data"
    }
   ],
   "source": [
    "fig, axs = plt.subplots(ncols=5, figsize=[25, 5])\n",
    "\n",
    "for i, (train_index, val_index) in enumerate(tscv.split(data['Adj_close'])):\n",
    "    axs[i].plot(data['Adj_close'][train_index], 'k', lw=1, label=\"Training Data\")\n",
    "    axs[i].plot(data['Adj_close'][val_index],'r', lw=1, label=\"Test Data\")\n",
    "    axs[i].set_xlim([dt.date(2020, 1, 1), dt.date(2022, 6, 25)])\n",
    "    axs[i].set_ylim([50, 200])\n",
    "    axs[i].set_title(f\"Fold {i} for timeseries split\")\n",
    "    if not i:\n",
    "        axs[0].legend()\n",
    "        plt.plot()"
   ]
  },
  {
   "cell_type": "markdown",
   "id": "be09313c",
   "metadata": {},
   "source": [
    "# PREPARING DATA FOR MACHINE LEARNING"
   ]
  },
  {
   "cell_type": "code",
   "execution_count": 24,
   "id": "ea4a50f3",
   "metadata": {},
   "outputs": [],
   "source": [
    "from sklearn.preprocessing import MinMaxScaler"
   ]
  },
  {
   "cell_type": "code",
   "execution_count": 25,
   "id": "8232e903",
   "metadata": {},
   "outputs": [],
   "source": [
    "scale = MinMaxScaler()\n",
    "# at this point I felt there was no need scaling my data since my independent variable X \n",
    "# is a date and scaling a date variable would after my forecating\n"
   ]
  },
  {
   "cell_type": "code",
   "execution_count": 26,
   "id": "dfd0cbfb",
   "metadata": {},
   "outputs": [],
   "source": [
    "data = data.drop(['Date'], axis =1)"
   ]
  },
  {
   "cell_type": "code",
   "execution_count": 27,
   "id": "29c79e37",
   "metadata": {},
   "outputs": [
    {
     "data": {
      "text/html": [
       "<div>\n",
       "<style scoped>\n",
       "    .dataframe tbody tr th:only-of-type {\n",
       "        vertical-align: middle;\n",
       "    }\n",
       "\n",
       "    .dataframe tbody tr th {\n",
       "        vertical-align: top;\n",
       "    }\n",
       "\n",
       "    .dataframe thead th {\n",
       "        text-align: right;\n",
       "    }\n",
       "</style>\n",
       "<table border=\"1\" class=\"dataframe\">\n",
       "  <thead>\n",
       "    <tr style=\"text-align: right;\">\n",
       "      <th></th>\n",
       "      <th>Adj_close</th>\n",
       "    </tr>\n",
       "    <tr>\n",
       "      <th>Date</th>\n",
       "      <th></th>\n",
       "    </tr>\n",
       "  </thead>\n",
       "  <tbody>\n",
       "    <tr>\n",
       "      <th>2020-01-01</th>\n",
       "      <td>62.028301</td>\n",
       "    </tr>\n",
       "    <tr>\n",
       "      <th>2020-01-02</th>\n",
       "      <td>61.830002</td>\n",
       "    </tr>\n",
       "    <tr>\n",
       "      <th>2020-01-03</th>\n",
       "      <td>61.694199</td>\n",
       "    </tr>\n",
       "    <tr>\n",
       "      <th>2020-01-06</th>\n",
       "      <td>62.029999</td>\n",
       "    </tr>\n",
       "    <tr>\n",
       "      <th>2020-01-07</th>\n",
       "      <td>61.775002</td>\n",
       "    </tr>\n",
       "  </tbody>\n",
       "</table>\n",
       "</div>"
      ],
      "text/plain": [
       "            Adj_close\n",
       "Date                 \n",
       "2020-01-01  62.028301\n",
       "2020-01-02  61.830002\n",
       "2020-01-03  61.694199\n",
       "2020-01-06  62.029999\n",
       "2020-01-07  61.775002"
      ]
     },
     "execution_count": 27,
     "metadata": {},
     "output_type": "execute_result"
    }
   ],
   "source": [
    "data.head()"
   ]
  },
  {
   "cell_type": "code",
   "execution_count": 28,
   "id": "6cf47946",
   "metadata": {},
   "outputs": [
    {
     "data": {
      "image/png": "[encoded data removed]",
      "text/plain": [
       "<Figure size 432x288 with 1 Axes>"
      ]
     },
     "metadata": {
      "needs_background": "light"
     },
     "output_type": "display_data"
    }
   ],
   "source": [
    "# Splitting the data into train and test data based on TimeSerieSplit\n",
    "\n",
    "train = data[data.index < pd.to_datetime(\"2021-12-31\", format='%Y-%m-%d')] # Train data is the first 2 years of the data\n",
    "test = data[data.index > pd.to_datetime(\"2021-12-31\", format='%Y-%m-%d')] # Test data is the data after the train data\n",
    "\n",
    "\n",
    "plt.plot(train, color = \"black\", label=\"Training Data\")\n",
    "plt.plot(test, color = \"red\", label=\"Test Data\")\n",
    "plt.ylabel('USD/RUB Price')\n",
    "plt.xlabel('Date')\n",
    "plt.xticks(rotation=45)\n",
    "plt.title(\"Train/Test split for USD/RUB\")\n",
    "plt.show()"
   ]
  },
  {
   "cell_type": "code",
   "execution_count": 29,
   "id": "ae646f8e",
   "metadata": {},
   "outputs": [
    {
     "data": {
      "text/plain": [
       "Index(['Adj_close'], dtype='object')"
      ]
     },
     "execution_count": 29,
     "metadata": {},
     "output_type": "execute_result"
    }
   ],
   "source": [
    "test.columns"
   ]
  },
  {
   "cell_type": "markdown",
   "id": "50c45fd4",
   "metadata": {},
   "source": [
    "PROPHET\n",
    "\n",
    "- Preparing the data for the FACEBOOK PROPHET MODEL"
   ]
  },
  {
   "cell_type": "code",
   "execution_count": 30,
   "id": "bbf1afe1",
   "metadata": {},
   "outputs": [
    {
     "data": {
      "text/html": [
       "<div>\n",
       "<style scoped>\n",
       "    .dataframe tbody tr th:only-of-type {\n",
       "        vertical-align: middle;\n",
       "    }\n",
       "\n",
       "    .dataframe tbody tr th {\n",
       "        vertical-align: top;\n",
       "    }\n",
       "\n",
       "    .dataframe thead th {\n",
       "        text-align: right;\n",
       "    }\n",
       "</style>\n",
       "<table border=\"1\" class=\"dataframe\">\n",
       "  <thead>\n",
       "    <tr style=\"text-align: right;\">\n",
       "      <th></th>\n",
       "      <th>ds</th>\n",
       "      <th>y</th>\n",
       "    </tr>\n",
       "  </thead>\n",
       "  <tbody>\n",
       "    <tr>\n",
       "      <th>0</th>\n",
       "      <td>2020-01-01</td>\n",
       "      <td>62.028301</td>\n",
       "    </tr>\n",
       "    <tr>\n",
       "      <th>1</th>\n",
       "      <td>2020-01-02</td>\n",
       "      <td>61.830002</td>\n",
       "    </tr>\n",
       "    <tr>\n",
       "      <th>2</th>\n",
       "      <td>2020-01-03</td>\n",
       "      <td>61.694199</td>\n",
       "    </tr>\n",
       "    <tr>\n",
       "      <th>3</th>\n",
       "      <td>2020-01-06</td>\n",
       "      <td>62.029999</td>\n",
       "    </tr>\n",
       "    <tr>\n",
       "      <th>4</th>\n",
       "      <td>2020-01-07</td>\n",
       "      <td>61.775002</td>\n",
       "    </tr>\n",
       "  </tbody>\n",
       "</table>\n",
       "</div>"
      ],
      "text/plain": [
       "          ds          y\n",
       "0 2020-01-01  62.028301\n",
       "1 2020-01-02  61.830002\n",
       "2 2020-01-03  61.694199\n",
       "3 2020-01-06  62.029999\n",
       "4 2020-01-07  61.775002"
      ]
     },
     "execution_count": 30,
     "metadata": {},
     "output_type": "execute_result"
    }
   ],
   "source": [
    "\n",
    "data_prophet = pd.DataFrame(columns = ['ds', 'y']) # Creating a dataframe to store the x and y labels for prophet\n",
    "data_prophet['ds'] = train.index # naming train independent variable as ds for prophet\n",
    "\n",
    "train.reset_index(inplace =True)\n",
    "data_prophet['y'] = train['Adj_close'] # naming the y label as y for prophet model\n",
    "\n",
    "\n",
    "\n",
    "data_prophet.head()"
   ]
  },
  {
   "cell_type": "code",
   "execution_count": 31,
   "id": "457a629c",
   "metadata": {},
   "outputs": [
    {
     "data": {
      "text/html": [
       "<div>\n",
       "<style scoped>\n",
       "    .dataframe tbody tr th:only-of-type {\n",
       "        vertical-align: middle;\n",
       "    }\n",
       "\n",
       "    .dataframe tbody tr th {\n",
       "        vertical-align: top;\n",
       "    }\n",
       "\n",
       "    .dataframe thead th {\n",
       "        text-align: right;\n",
       "    }\n",
       "</style>\n",
       "<table border=\"1\" class=\"dataframe\">\n",
       "  <thead>\n",
       "    <tr style=\"text-align: right;\">\n",
       "      <th></th>\n",
       "      <th>ds</th>\n",
       "      <th>y</th>\n",
       "    </tr>\n",
       "  </thead>\n",
       "  <tbody>\n",
       "    <tr>\n",
       "      <th>0</th>\n",
       "      <td>2022-01-03</td>\n",
       "      <td>74.986000</td>\n",
       "    </tr>\n",
       "    <tr>\n",
       "      <th>1</th>\n",
       "      <td>2022-01-04</td>\n",
       "      <td>74.371803</td>\n",
       "    </tr>\n",
       "    <tr>\n",
       "      <th>2</th>\n",
       "      <td>2022-01-05</td>\n",
       "      <td>75.263000</td>\n",
       "    </tr>\n",
       "    <tr>\n",
       "      <th>3</th>\n",
       "      <td>2022-01-06</td>\n",
       "      <td>76.661598</td>\n",
       "    </tr>\n",
       "    <tr>\n",
       "      <th>4</th>\n",
       "      <td>2022-01-07</td>\n",
       "      <td>76.353699</td>\n",
       "    </tr>\n",
       "  </tbody>\n",
       "</table>\n",
       "</div>"
      ],
      "text/plain": [
       "          ds          y\n",
       "0 2022-01-03  74.986000\n",
       "1 2022-01-04  74.371803\n",
       "2 2022-01-05  75.263000\n",
       "3 2022-01-06  76.661598\n",
       "4 2022-01-07  76.353699"
      ]
     },
     "execution_count": 31,
     "metadata": {},
     "output_type": "execute_result"
    }
   ],
   "source": [
    "\n",
    "data_prophet_test = pd.DataFrame(columns = ['ds', 'y'])\n",
    "data_prophet_test['ds'] = test.index # naming test independent variable as ds for prophet\n",
    "test.reset_index(inplace = True)\n",
    "data_prophet_test['y'] = test['Adj_close'] # naming test dependent variable as y for prophet\n",
    "\n",
    "\n",
    "data_prophet_test.head()"
   ]
  },
  {
   "cell_type": "code",
   "execution_count": 32,
   "id": "6cafdc9f",
   "metadata": {},
   "outputs": [
    {
     "data": {
      "text/plain": [
       "0      74.986000\n",
       "1      74.371803\n",
       "2      75.263000\n",
       "3      76.661598\n",
       "4      76.353699\n",
       "         ...    \n",
       "127    53.714901\n",
       "128    52.465099\n",
       "129    54.840000\n",
       "130    53.237499\n",
       "131    56.250000\n",
       "Name: Adj_close, Length: 132, dtype: float64"
      ]
     },
     "execution_count": 32,
     "metadata": {},
     "output_type": "execute_result"
    }
   ],
   "source": [
    "# splitting the train and test data into independent and dependent variables\n",
    "train.reset_index()\n",
    "\n",
    "x_train = train.index\n",
    "\n",
    "y_train = train['Adj_close']\n",
    "\n",
    "train.reset_index(inplace = True)\n",
    "\n",
    "#Test Data\n",
    "x_test = test.index\n",
    "\n",
    "\n",
    "test.reset_index(inplace = True)\n",
    "y_test = test['Adj_close']\n",
    "\n",
    "y_test"
   ]
  },
  {
   "cell_type": "markdown",
   "id": "849babe4",
   "metadata": {},
   "source": [
    "## BASELINE MODEL USING ARIMA"
   ]
  },
  {
   "cell_type": "code",
   "execution_count": 33,
   "id": "a33211cc",
   "metadata": {},
   "outputs": [
    {
     "name": "stdout",
     "output_type": "stream",
     "text": [
      "Requirement already satisfied: pmdarima in c:\\users\\omolola.omotalade\\anaconda3\\lib\\site-packages (1.8.5)\n",
      "Requirement already satisfied: scipy>=1.3.2 in c:\\users\\omolola.omotalade\\anaconda3\\lib\\site-packages (from pmdarima) (1.7.1)\n",
      "Requirement already satisfied: setuptools!=50.0.0,>=38.6.0 in c:\\users\\omolola.omotalade\\anaconda3\\lib\\site-packages (from pmdarima) (58.0.4)\n",
      "Requirement already satisfied: statsmodels!=0.12.0,>=0.11 in c:\\users\\omolola.omotalade\\anaconda3\\lib\\site-packages (from pmdarima) (0.12.2)\n",
      "Requirement already satisfied: numpy>=1.19.3 in c:\\users\\omolola.omotalade\\anaconda3\\lib\\site-packages (from pmdarima) (1.22.4)\n",
      "Requirement already satisfied: scikit-learn>=0.22 in c:\\users\\omolola.omotalade\\anaconda3\\lib\\site-packages (from pmdarima) (0.24.2)\n",
      "Requirement already satisfied: joblib>=0.11 in c:\\users\\omolola.omotalade\\anaconda3\\lib\\site-packages (from pmdarima) (1.1.0)\n",
      "Requirement already satisfied: urllib3 in c:\\users\\omolola.omotalade\\anaconda3\\lib\\site-packages (from pmdarima) (1.26.7)\n",
      "Requirement already satisfied: pandas>=0.19 in c:\\users\\omolola.omotalade\\anaconda3\\lib\\site-packages (from pmdarima) (1.3.4)\n",
      "Requirement already satisfied: Cython!=0.29.18,>=0.29 in c:\\users\\omolola.omotalade\\anaconda3\\lib\\site-packages (from pmdarima) (0.29.24)\n",
      "Requirement already satisfied: python-dateutil>=2.7.3 in c:\\users\\omolola.omotalade\\anaconda3\\lib\\site-packages (from pandas>=0.19->pmdarima) (2.8.2)\n",
      "Requirement already satisfied: pytz>=2017.3 in c:\\users\\omolola.omotalade\\anaconda3\\lib\\site-packages (from pandas>=0.19->pmdarima) (2021.3)\n",
      "Requirement already satisfied: threadpoolctl>=2.0.0 in c:\\users\\omolola.omotalade\\anaconda3\\lib\\site-packages (from scikit-learn>=0.22->pmdarima) (2.2.0)\n",
      "Requirement already satisfied: patsy>=0.5 in c:\\users\\omolola.omotalade\\anaconda3\\lib\\site-packages (from statsmodels!=0.12.0,>=0.11->pmdarima) (0.5.2)\n",
      "Requirement already satisfied: six in c:\\users\\omolola.omotalade\\anaconda3\\lib\\site-packages (from patsy>=0.5->statsmodels!=0.12.0,>=0.11->pmdarima) (1.16.0)\n"
     ]
    },
    {
     "name": "stderr",
     "output_type": "stream",
     "text": [
      "WARNING: There was an error checking the latest version of pip.\n"
     ]
    }
   ],
   "source": [
    "# To install the library Arima library\n",
    "! pip install pmdarima"
   ]
  },
  {
   "cell_type": "code",
   "execution_count": 34,
   "id": "847bfbad",
   "metadata": {},
   "outputs": [],
   "source": [
    "# Import the library\n",
    "from pmdarima import auto_arima\n",
    "  \n",
    "# Ignore harmless warnings\n",
    "import warnings\n",
    "warnings.filterwarnings(\"ignore\")\n"
   ]
  },
  {
   "cell_type": "code",
   "execution_count": 35,
   "id": "72e01395",
   "metadata": {},
   "outputs": [
    {
     "name": "stdout",
     "output_type": "stream",
     "text": [
      "Performing stepwise search to minimize aic\n",
      " ARIMA(1,0,1)(0,1,1)[12] intercept   : AIC=inf, Time=1.30 sec\n",
      " ARIMA(0,0,0)(0,1,0)[12] intercept   : AIC=4628.168, Time=0.05 sec\n",
      " ARIMA(1,0,0)(1,1,0)[12] intercept   : AIC=3708.680, Time=0.52 sec\n",
      " ARIMA(0,0,1)(0,1,1)[12] intercept   : AIC=4224.764, Time=0.65 sec\n",
      " ARIMA(0,0,0)(0,1,0)[12]             : AIC=4626.320, Time=0.04 sec\n",
      " ARIMA(1,0,0)(0,1,0)[12] intercept   : AIC=3999.535, Time=0.13 sec\n",
      " ARIMA(1,0,0)(2,1,0)[12] intercept   : AIC=3648.257, Time=1.68 sec\n",
      " ARIMA(1,0,0)(2,1,1)[12] intercept   : AIC=3570.324, Time=3.25 sec\n",
      " ARIMA(1,0,0)(1,1,1)[12] intercept   : AIC=3569.175, Time=1.02 sec\n",
      " ARIMA(1,0,0)(0,1,1)[12] intercept   : AIC=inf, Time=0.69 sec\n",
      " ARIMA(1,0,0)(1,1,2)[12] intercept   : AIC=3564.914, Time=4.09 sec\n",
      " ARIMA(1,0,0)(0,1,2)[12] intercept   : AIC=3567.044, Time=2.23 sec\n",
      " ARIMA(1,0,0)(2,1,2)[12] intercept   : AIC=inf, Time=4.18 sec\n",
      " ARIMA(0,0,0)(1,1,2)[12] intercept   : AIC=inf, Time=5.45 sec\n",
      " ARIMA(2,0,0)(1,1,2)[12] intercept   : AIC=3477.038, Time=6.49 sec\n",
      " ARIMA(2,0,0)(0,1,2)[12] intercept   : AIC=3476.934, Time=3.54 sec\n",
      " ARIMA(2,0,0)(0,1,1)[12] intercept   : AIC=inf, Time=1.07 sec\n",
      " ARIMA(2,0,0)(1,1,1)[12] intercept   : AIC=3478.831, Time=1.21 sec\n",
      " ARIMA(3,0,0)(0,1,2)[12] intercept   : AIC=3477.219, Time=3.42 sec\n",
      " ARIMA(2,0,1)(0,1,2)[12] intercept   : AIC=3476.534, Time=4.94 sec\n",
      " ARIMA(2,0,1)(0,1,1)[12] intercept   : AIC=inf, Time=1.81 sec\n",
      " ARIMA(2,0,1)(1,1,2)[12] intercept   : AIC=3477.000, Time=8.27 sec\n",
      " ARIMA(2,0,1)(1,1,1)[12] intercept   : AIC=3478.229, Time=1.92 sec\n",
      " ARIMA(1,0,1)(0,1,2)[12] intercept   : AIC=3478.878, Time=3.93 sec\n",
      " ARIMA(3,0,1)(0,1,2)[12] intercept   : AIC=3478.896, Time=9.61 sec\n",
      " ARIMA(2,0,2)(0,1,2)[12] intercept   : AIC=3477.842, Time=6.70 sec\n",
      " ARIMA(1,0,2)(0,1,2)[12] intercept   : AIC=3477.118, Time=4.74 sec\n",
      " ARIMA(3,0,2)(0,1,2)[12] intercept   : AIC=3479.766, Time=10.31 sec\n",
      " ARIMA(2,0,1)(0,1,2)[12]             : AIC=3474.556, Time=3.37 sec\n",
      " ARIMA(2,0,1)(0,1,1)[12]             : AIC=inf, Time=1.17 sec\n",
      " ARIMA(2,0,1)(1,1,2)[12]             : AIC=3475.045, Time=3.98 sec\n",
      " ARIMA(2,0,1)(1,1,1)[12]             : AIC=3476.240, Time=1.34 sec\n",
      " ARIMA(1,0,1)(0,1,2)[12]             : AIC=3476.905, Time=3.23 sec\n",
      " ARIMA(2,0,0)(0,1,2)[12]             : AIC=3474.949, Time=2.12 sec\n",
      " ARIMA(3,0,1)(0,1,2)[12]             : AIC=3476.910, Time=7.39 sec\n",
      " ARIMA(2,0,2)(0,1,2)[12]             : AIC=3475.866, Time=5.28 sec\n",
      " ARIMA(1,0,0)(0,1,2)[12]             : AIC=3565.046, Time=1.48 sec\n",
      " ARIMA(1,0,2)(0,1,2)[12]             : AIC=3475.140, Time=3.23 sec\n",
      " ARIMA(3,0,0)(0,1,2)[12]             : AIC=3475.238, Time=3.23 sec\n",
      " ARIMA(3,0,2)(0,1,2)[12]             : AIC=3477.784, Time=9.74 sec\n",
      "\n",
      "Best model:  ARIMA(2,0,1)(0,1,2)[12]          \n",
      "Total fit time: 138.938 seconds\n"
     ]
    },
    {
     "data": {
      "text/html": [
       "<table class=\"simpletable\">\n",
       "<caption>SARIMAX Results</caption>\n",
       "<tr>\n",
       "  <th>Dep. Variable:</th>                    <td>y</td>                  <th>  No. Observations:  </th>    <td>655</td>   \n",
       "</tr>\n",
       "<tr>\n",
       "  <th>Model:</th>           <td>SARIMAX(2, 0, 1)x(0, 1, [1, 2], 12)</td> <th>  Log Likelihood     </th> <td>-1731.278</td>\n",
       "</tr>\n",
       "<tr>\n",
       "  <th>Date:</th>                     <td>Mon, 04 Jul 2022</td>           <th>  AIC                </th> <td>3474.556</td> \n",
       "</tr>\n",
       "<tr>\n",
       "  <th>Time:</th>                         <td>23:12:26</td>               <th>  BIC                </th> <td>3501.353</td> \n",
       "</tr>\n",
       "<tr>\n",
       "  <th>Sample:</th>                           <td>0</td>                  <th>  HQIC               </th> <td>3484.955</td> \n",
       "</tr>\n",
       "<tr>\n",
       "  <th></th>                               <td> - 655</td>                <th>                     </th>     <td> </td>    \n",
       "</tr>\n",
       "<tr>\n",
       "  <th>Covariance Type:</th>                 <td>opg</td>                 <th>                     </th>     <td> </td>    \n",
       "</tr>\n",
       "</table>\n",
       "<table class=\"simpletable\">\n",
       "<tr>\n",
       "      <td></td>        <th>coef</th>     <th>std err</th>      <th>z</th>      <th>P>|z|</th>  <th>[0.025</th>    <th>0.975]</th>  \n",
       "</tr>\n",
       "<tr>\n",
       "  <th>ar.L1</th>    <td>    0.7622</td> <td>    0.035</td> <td>   21.792</td> <td> 0.000</td> <td>    0.694</td> <td>    0.831</td>\n",
       "</tr>\n",
       "<tr>\n",
       "  <th>ar.L2</th>    <td>    0.2136</td> <td>    0.034</td> <td>    6.252</td> <td> 0.000</td> <td>    0.147</td> <td>    0.281</td>\n",
       "</tr>\n",
       "<tr>\n",
       "  <th>ma.L1</th>    <td>   -0.1869</td> <td>    0.039</td> <td>   -4.827</td> <td> 0.000</td> <td>   -0.263</td> <td>   -0.111</td>\n",
       "</tr>\n",
       "<tr>\n",
       "  <th>ma.S.L12</th> <td>   -1.0674</td> <td>    0.030</td> <td>  -35.119</td> <td> 0.000</td> <td>   -1.127</td> <td>   -1.008</td>\n",
       "</tr>\n",
       "<tr>\n",
       "  <th>ma.S.L24</th> <td>    0.2213</td> <td>    0.034</td> <td>    6.436</td> <td> 0.000</td> <td>    0.154</td> <td>    0.289</td>\n",
       "</tr>\n",
       "<tr>\n",
       "  <th>sigma2</th>   <td>   12.4041</td> <td>    0.177</td> <td>   70.277</td> <td> 0.000</td> <td>   12.058</td> <td>   12.750</td>\n",
       "</tr>\n",
       "</table>\n",
       "<table class=\"simpletable\">\n",
       "<tr>\n",
       "  <th>Ljung-Box (L1) (Q):</th>     <td>0.00</td>  <th>  Jarque-Bera (JB):  </th> <td>170487.04</td>\n",
       "</tr>\n",
       "<tr>\n",
       "  <th>Prob(Q):</th>                <td>0.95</td>  <th>  Prob(JB):          </th>   <td>0.00</td>   \n",
       "</tr>\n",
       "<tr>\n",
       "  <th>Heteroskedasticity (H):</th> <td>35.20</td> <th>  Skew:              </th>   <td>5.01</td>   \n",
       "</tr>\n",
       "<tr>\n",
       "  <th>Prob(H) (two-sided):</th>    <td>0.00</td>  <th>  Kurtosis:          </th>   <td>82.14</td>  \n",
       "</tr>\n",
       "</table><br/><br/>Warnings:<br/>[1] Covariance matrix calculated using the outer product of gradients (complex-step)."
      ],
      "text/plain": [
       "<class 'statsmodels.iolib.summary.Summary'>\n",
       "\"\"\"\n",
       "                                        SARIMAX Results                                        \n",
       "===============================================================================================\n",
       "Dep. Variable:                                       y   No. Observations:                  655\n",
       "Model:             SARIMAX(2, 0, 1)x(0, 1, [1, 2], 12)   Log Likelihood               -1731.278\n",
       "Date:                                 Mon, 04 Jul 2022   AIC                           3474.556\n",
       "Time:                                         23:12:26   BIC                           3501.353\n",
       "Sample:                                              0   HQIC                          3484.955\n",
       "                                                 - 655                                         \n",
       "Covariance Type:                                   opg                                         \n",
       "==============================================================================\n",
       "                 coef    std err          z      P>|z|      [0.025      0.975]\n",
       "------------------------------------------------------------------------------\n",
       "ar.L1          0.7622      0.035     21.792      0.000       0.694       0.831\n",
       "ar.L2          0.2136      0.034      6.252      0.000       0.147       0.281\n",
       "ma.L1         -0.1869      0.039     -4.827      0.000      -0.263      -0.111\n",
       "ma.S.L12      -1.0674      0.030    -35.119      0.000      -1.127      -1.008\n",
       "ma.S.L24       0.2213      0.034      6.436      0.000       0.154       0.289\n",
       "sigma2        12.4041      0.177     70.277      0.000      12.058      12.750\n",
       "===================================================================================\n",
       "Ljung-Box (L1) (Q):                   0.00   Jarque-Bera (JB):            170487.04\n",
       "Prob(Q):                              0.95   Prob(JB):                         0.00\n",
       "Heteroskedasticity (H):              35.20   Skew:                             5.01\n",
       "Prob(H) (two-sided):                  0.00   Kurtosis:                        82.14\n",
       "===================================================================================\n",
       "\n",
       "Warnings:\n",
       "[1] Covariance matrix calculated using the outer product of gradients (complex-step).\n",
       "\"\"\""
      ]
     },
     "execution_count": 35,
     "metadata": {},
     "output_type": "execute_result"
    }
   ],
   "source": [
    "# auto_arima provides us with the best fit model for our data. In this case auto_arima recommends SARIMAX\n",
    "# model and a (pdq) of (2, 0, 1)x(0, 1, [1, 2], 12).\n",
    "\n",
    "stepwise_fit = auto_arima(data['Adj_close'], start_p = 1, start_q = 1,\n",
    "                          max_p = 3, max_q = 3, m = 12,\n",
    "                          start_P = 0, seasonal = True,\n",
    "                          d = None, D = 1, trace = True,\n",
    "                          error_action ='ignore',   # we don't want to know if an order does not work\n",
    "                          suppress_warnings = True,  # we don't want convergence warnings\n",
    "                          stepwise = True)           # set to stepwise\n",
    "  \n",
    "# To print the summary\n",
    "stepwise_fit.summary()"
   ]
  },
  {
   "cell_type": "code",
   "execution_count": 36,
   "id": "829b9bed",
   "metadata": {},
   "outputs": [],
   "source": [
    "# importing the SARIMAX model\n",
    "from statsmodels.tsa.statespace.sarimax import SARIMAX"
   ]
  },
  {
   "cell_type": "code",
   "execution_count": 37,
   "id": "63b1f9ad",
   "metadata": {},
   "outputs": [
    {
     "data": {
      "text/plain": [
       "(522, 3)"
      ]
     },
     "execution_count": 37,
     "metadata": {},
     "output_type": "execute_result"
    }
   ],
   "source": [
    "# checking the no of rows and column on the train data\n",
    "train.shape"
   ]
  },
  {
   "cell_type": "code",
   "execution_count": 38,
   "id": "b23f6613",
   "metadata": {},
   "outputs": [
    {
     "data": {
      "text/html": [
       "<div>\n",
       "<style scoped>\n",
       "    .dataframe tbody tr th:only-of-type {\n",
       "        vertical-align: middle;\n",
       "    }\n",
       "\n",
       "    .dataframe tbody tr th {\n",
       "        vertical-align: top;\n",
       "    }\n",
       "\n",
       "    .dataframe thead th {\n",
       "        text-align: right;\n",
       "    }\n",
       "</style>\n",
       "<table border=\"1\" class=\"dataframe\">\n",
       "  <thead>\n",
       "    <tr style=\"text-align: right;\">\n",
       "      <th></th>\n",
       "      <th>Date</th>\n",
       "      <th>Adj_close</th>\n",
       "    </tr>\n",
       "  </thead>\n",
       "  <tbody>\n",
       "    <tr>\n",
       "      <th>0</th>\n",
       "      <td>2020-01-01</td>\n",
       "      <td>62.028301</td>\n",
       "    </tr>\n",
       "    <tr>\n",
       "      <th>1</th>\n",
       "      <td>2020-01-02</td>\n",
       "      <td>61.830002</td>\n",
       "    </tr>\n",
       "    <tr>\n",
       "      <th>2</th>\n",
       "      <td>2020-01-03</td>\n",
       "      <td>61.694199</td>\n",
       "    </tr>\n",
       "    <tr>\n",
       "      <th>3</th>\n",
       "      <td>2020-01-06</td>\n",
       "      <td>62.029999</td>\n",
       "    </tr>\n",
       "    <tr>\n",
       "      <th>4</th>\n",
       "      <td>2020-01-07</td>\n",
       "      <td>61.775002</td>\n",
       "    </tr>\n",
       "    <tr>\n",
       "      <th>...</th>\n",
       "      <td>...</td>\n",
       "      <td>...</td>\n",
       "    </tr>\n",
       "    <tr>\n",
       "      <th>517</th>\n",
       "      <td>2021-12-24</td>\n",
       "      <td>73.298798</td>\n",
       "    </tr>\n",
       "    <tr>\n",
       "      <th>518</th>\n",
       "      <td>2021-12-27</td>\n",
       "      <td>73.610001</td>\n",
       "    </tr>\n",
       "    <tr>\n",
       "      <th>519</th>\n",
       "      <td>2021-12-28</td>\n",
       "      <td>73.359001</td>\n",
       "    </tr>\n",
       "    <tr>\n",
       "      <th>520</th>\n",
       "      <td>2021-12-29</td>\n",
       "      <td>73.667503</td>\n",
       "    </tr>\n",
       "    <tr>\n",
       "      <th>521</th>\n",
       "      <td>2021-12-30</td>\n",
       "      <td>73.974998</td>\n",
       "    </tr>\n",
       "  </tbody>\n",
       "</table>\n",
       "<p>522 rows × 2 columns</p>\n",
       "</div>"
      ],
      "text/plain": [
       "          Date  Adj_close\n",
       "0   2020-01-01  62.028301\n",
       "1   2020-01-02  61.830002\n",
       "2   2020-01-03  61.694199\n",
       "3   2020-01-06  62.029999\n",
       "4   2020-01-07  61.775002\n",
       "..         ...        ...\n",
       "517 2021-12-24  73.298798\n",
       "518 2021-12-27  73.610001\n",
       "519 2021-12-28  73.359001\n",
       "520 2021-12-29  73.667503\n",
       "521 2021-12-30  73.974998\n",
       "\n",
       "[522 rows x 2 columns]"
      ]
     },
     "execution_count": 38,
     "metadata": {},
     "output_type": "execute_result"
    }
   ],
   "source": [
    "# dropping unnecessary columns on the train data\n",
    "train.drop(columns= 'index', axis=1)\n"
   ]
  },
  {
   "cell_type": "code",
   "execution_count": 39,
   "id": "3c67d2ca",
   "metadata": {},
   "outputs": [],
   "source": [
    "# dropping unnecessary columns on the test data\n",
    "\n",
    "test= test.drop(columns= 'index', axis=1)\n"
   ]
  },
  {
   "cell_type": "code",
   "execution_count": 40,
   "id": "94c46a41",
   "metadata": {},
   "outputs": [
    {
     "name": "stdout",
     "output_type": "stream",
     "text": [
      "                                     SARIMAX Results                                      \n",
      "==========================================================================================\n",
      "Dep. Variable:                          Adj_close   No. Observations:                  522\n",
      "Model:             SARIMAX(0, 1, 1)x(2, 1, 1, 12)   Log Likelihood                -542.488\n",
      "Date:                            Mon, 04 Jul 2022   AIC                           1094.976\n",
      "Time:                                    23:12:31   BIC                           1116.138\n",
      "Sample:                                         0   HQIC                          1103.274\n",
      "                                            - 522                                         \n",
      "Covariance Type:                              opg                                         \n",
      "==============================================================================\n",
      "                 coef    std err          z      P>|z|      [0.025      0.975]\n",
      "------------------------------------------------------------------------------\n",
      "ma.L1         -0.0336      0.024     -1.404      0.160      -0.080       0.013\n",
      "ar.S.L12       0.0221      0.045      0.495      0.621      -0.065       0.109\n",
      "ar.S.L24       0.1024      0.045      2.264      0.024       0.014       0.191\n",
      "ma.S.L12      -0.9976      0.713     -1.398      0.162      -2.396       0.401\n",
      "sigma2         0.4550      0.320      1.424      0.154      -0.171       1.081\n",
      "===================================================================================\n",
      "Ljung-Box (L1) (Q):                   0.00   Jarque-Bera (JB):              2854.28\n",
      "Prob(Q):                              0.97   Prob(JB):                         0.00\n",
      "Heteroskedasticity (H):               0.19   Skew:                             1.37\n",
      "Prob(H) (two-sided):                  0.00   Kurtosis:                        14.27\n",
      "===================================================================================\n",
      "\n",
      "Warnings:\n",
      "[1] Covariance matrix calculated using the outer product of gradients (complex-step).\n"
     ]
    }
   ],
   "source": [
    "# fitting the SARIMAX model and viewing the summary\n",
    "\n",
    "model = SARIMAX(train['Adj_close'], \n",
    "                order = (0, 1, 1), \n",
    "                seasonal_order =(2, 1, 1, 12))\n",
    "  \n",
    "result = model.fit()\n",
    "print(result.summary())"
   ]
  },
  {
   "cell_type": "code",
   "execution_count": 41,
   "id": "018c0978",
   "metadata": {},
   "outputs": [],
   "source": [
    "from sklearn.metrics import r2_score, mean_absolute_error\n",
    "\n",
    "from statsmodels.tools.eval_measures import rmse"
   ]
  },
  {
   "cell_type": "code",
   "execution_count": 42,
   "id": "eb9cd13f",
   "metadata": {},
   "outputs": [],
   "source": [
    "start = len(train)\n",
    "end = len(train) + len(test) - 1"
   ]
  },
  {
   "cell_type": "code",
   "execution_count": 43,
   "id": "a132bd51",
   "metadata": {
    "scrolled": true
   },
   "outputs": [],
   "source": [
    "ypred_ari = result.predict(start, end, type = 'levels', \n",
    "                     dynamic = False ,enforce_stationarity=False,\n",
    "                                   enforce_invertibility=False).reset_index(drop = True)"
   ]
  },
  {
   "cell_type": "code",
   "execution_count": 44,
   "id": "7b0a7ef8",
   "metadata": {},
   "outputs": [
    {
     "name": "stdout",
     "output_type": "stream",
     "text": [
      "0      74.067305\n",
      "1      73.999533\n",
      "2      74.243827\n",
      "3      74.255951\n",
      "4      74.160592\n",
      "         ...    \n",
      "127    77.046303\n",
      "128    77.016788\n",
      "129    77.131324\n",
      "130    77.173097\n",
      "131    76.922172\n",
      "Name: predicted_mean, Length: 132, dtype: float64\n"
     ]
    }
   ],
   "source": [
    "print(ypred_ari)"
   ]
  },
  {
   "cell_type": "code",
   "execution_count": 45,
   "id": "d7f08871",
   "metadata": {},
   "outputs": [
    {
     "data": {
      "text/plain": [
       "0      74.986000\n",
       "1      74.371803\n",
       "2      75.263000\n",
       "3      76.661598\n",
       "4      76.353699\n",
       "         ...    \n",
       "127    53.714901\n",
       "128    52.465099\n",
       "129    54.840000\n",
       "130    53.237499\n",
       "131    56.250000\n",
       "Name: Adj_close, Length: 132, dtype: float64"
      ]
     },
     "execution_count": 45,
     "metadata": {},
     "output_type": "execute_result"
    }
   ],
   "source": [
    "y_test"
   ]
  },
  {
   "cell_type": "code",
   "execution_count": 46,
   "id": "f70e730b",
   "metadata": {},
   "outputs": [],
   "source": [
    "act_pred_comparison = pd.DataFrame(columns = ['Date','Ya', 'Yp'])\n",
    "\n",
    "act_pred_comparison['Yp'] = ypred_ari\n",
    "\n",
    "act_pred_comparison['Ya'] = y_test\n",
    "\n",
    "act_pred_comparison['Date'] = test['Date']\n"
   ]
  },
  {
   "cell_type": "code",
   "execution_count": 47,
   "id": "59b429d0",
   "metadata": {},
   "outputs": [],
   "source": [
    "act_pred_comparison['diff'] = act_pred_comparison['Ya'] - act_pred_comparison['Yp']"
   ]
  },
  {
   "cell_type": "code",
   "execution_count": 48,
   "id": "6e3da81b",
   "metadata": {},
   "outputs": [
    {
     "name": "stdout",
     "output_type": "stream",
     "text": [
      "The rmse for the prophet model is: 19.428036716571203\n",
      "The MAE is : 13.47348245233409\n",
      "The mean value for actual target variable: 78.24348137595437\n"
     ]
    }
   ],
   "source": []
  },
  {
   "cell_type": "code",
   "execution_count": 84,
   "id": "5f9435ab",
   "metadata": {},
   "outputs": [
    {
     "data": {
      "image/png": "[encoded data removed]",
      "text/plain": [
       "<Figure size 1440x720 with 1 Axes>"
      ]
     },
     "metadata": {
      "needs_background": "light"
     },
     "output_type": "display_data"
    },
    {
     "name": "stdout",
     "output_type": "stream",
     "text": [
      "The rmse for the SARIMAX model is: 19.428036716571203\n",
      "The MAE is : 13.47348245233409\n",
      "The mean value for actual target variable: 78.24348137595437\n"
     ]
    }
   ],
   "source": [
    "plt.figure(figsize=(20,10))\n",
    "plt.plot(act_pred_comparison['Date'], act_pred_comparison['Yp'] ,color='green', linestyle='dashed',label='Predicted Price')\n",
    "plt.plot( act_pred_comparison['Date'], act_pred_comparison['Ya'], color='red', label='Actual Price')\n",
    "plt.title('Comparison of actual and predicted rate for  SARIMAX MODEL')\n",
    "plt.xlabel('Day')\n",
    "plt.ylabel('Prices')\n",
    "plt.legend()\n",
    "plt.show()\n",
    "        \n",
    "\n",
    "print('The rmse for the SARIMAX model is:' , rmse(ypred_ari, y_test))\n",
    "\n",
    "\n",
    "print('The MAE is :',mean_absolute_error(ypred_ari, y_test)\n",
    ")\n",
    "print('The mean value for actual target variable:' , y_test.mean())"
   ]
  },
  {
   "cell_type": "markdown",
   "id": "e5e37c8e",
   "metadata": {},
   "source": [
    "### FACEBOOK PROPHET"
   ]
  },
  {
   "cell_type": "code",
   "execution_count": 50,
   "id": "018a761a",
   "metadata": {},
   "outputs": [
    {
     "name": "stdout",
     "output_type": "stream",
     "text": [
      "Requirement already satisfied: prophet in c:\\users\\omolola.omotalade\\anaconda3\\lib\\site-packages (1.1)\n",
      "Requirement already satisfied: convertdate>=2.1.2 in c:\\users\\omolola.omotalade\\anaconda3\\lib\\site-packages (from prophet) (2.4.0)\n",
      "Requirement already satisfied: wheel>=0.37.0 in c:\\users\\omolola.omotalade\\anaconda3\\lib\\site-packages (from prophet) (0.37.0)\n",
      "Requirement already satisfied: matplotlib>=2.0.0 in c:\\users\\omolola.omotalade\\anaconda3\\lib\\site-packages (from prophet) (3.4.3)\n",
      "Requirement already satisfied: setuptools>=42 in c:\\users\\omolola.omotalade\\anaconda3\\lib\\site-packages (from prophet) (58.0.4)\n",
      "Requirement already satisfied: setuptools-git>=1.2 in c:\\users\\omolola.omotalade\\anaconda3\\lib\\site-packages (from prophet) (1.2)\n",
      "Requirement already satisfied: cmdstanpy>=1.0.1 in c:\\users\\omolola.omotalade\\anaconda3\\lib\\site-packages (from prophet) (1.0.3)\n",
      "Requirement already satisfied: numpy>=1.15.4 in c:\\users\\omolola.omotalade\\anaconda3\\lib\\site-packages (from prophet) (1.22.4)\n",
      "Requirement already satisfied: pandas>=1.0.4 in c:\\users\\omolola.omotalade\\anaconda3\\lib\\site-packages (from prophet) (1.3.4)\n",
      "Requirement already satisfied: holidays>=0.13 in c:\\users\\omolola.omotalade\\anaconda3\\lib\\site-packages (from prophet) (0.14.2)\n",
      "Requirement already satisfied: tqdm>=4.36.1 in c:\\users\\omolola.omotalade\\anaconda3\\lib\\site-packages (from prophet) (4.62.3)\n",
      "Requirement already satisfied: LunarCalendar>=0.0.9 in c:\\users\\omolola.omotalade\\anaconda3\\lib\\site-packages (from prophet) (0.0.9)\n",
      "Requirement already satisfied: python-dateutil>=2.8.0 in c:\\users\\omolola.omotalade\\anaconda3\\lib\\site-packages (from prophet) (2.8.2)\n",
      "Requirement already satisfied: Cython>=0.22 in c:\\users\\omolola.omotalade\\anaconda3\\lib\\site-packages (from prophet) (0.29.24)\n",
      "Requirement already satisfied: ujson in c:\\users\\omolola.omotalade\\anaconda3\\lib\\site-packages (from cmdstanpy>=1.0.1->prophet) (4.0.2)\n",
      "Requirement already satisfied: pymeeus<=1,>=0.3.13 in c:\\users\\omolola.omotalade\\anaconda3\\lib\\site-packages (from convertdate>=2.1.2->prophet) (0.5.11)\n",
      "Requirement already satisfied: korean-lunar-calendar in c:\\users\\omolola.omotalade\\anaconda3\\lib\\site-packages (from holidays>=0.13->prophet) (0.2.1)\n",
      "Requirement already satisfied: hijri-converter in c:\\users\\omolola.omotalade\\anaconda3\\lib\\site-packages (from holidays>=0.13->prophet) (2.2.4)\n",
      "Requirement already satisfied: ephem>=3.7.5.3 in c:\\users\\omolola.omotalade\\anaconda3\\lib\\site-packages (from LunarCalendar>=0.0.9->prophet) (4.1.3)\n",
      "Requirement already satisfied: pytz in c:\\users\\omolola.omotalade\\anaconda3\\lib\\site-packages (from LunarCalendar>=0.0.9->prophet) (2021.3)\n",
      "Requirement already satisfied: cycler>=0.10 in c:\\users\\omolola.omotalade\\anaconda3\\lib\\site-packages (from matplotlib>=2.0.0->prophet) (0.10.0)\n",
      "Requirement already satisfied: pyparsing>=2.2.1 in c:\\users\\omolola.omotalade\\anaconda3\\lib\\site-packages (from matplotlib>=2.0.0->prophet) (3.0.4)\n",
      "Requirement already satisfied: kiwisolver>=1.0.1 in c:\\users\\omolola.omotalade\\anaconda3\\lib\\site-packages (from matplotlib>=2.0.0->prophet) (1.3.1)\n",
      "Requirement already satisfied: pillow>=6.2.0 in c:\\users\\omolola.omotalade\\anaconda3\\lib\\site-packages (from matplotlib>=2.0.0->prophet) (8.4.0)\n",
      "Requirement already satisfied: six>=1.5 in c:\\users\\omolola.omotalade\\anaconda3\\lib\\site-packages (from python-dateutil>=2.8.0->prophet) (1.16.0)\n",
      "Requirement already satisfied: colorama in c:\\users\\omolola.omotalade\\anaconda3\\lib\\site-packages (from tqdm>=4.36.1->prophet) (0.4.4)\n"
     ]
    },
    {
     "name": "stderr",
     "output_type": "stream",
     "text": [
      "WARNING: There was an error checking the latest version of pip.\n"
     ]
    }
   ],
   "source": [
    "! pip  install prophet"
   ]
  },
  {
   "cell_type": "code",
   "execution_count": 51,
   "id": "1db206ce",
   "metadata": {},
   "outputs": [],
   "source": [
    "from prophet import Prophet\n",
    "\n",
    "from prophet.plot import plot_plotly, plot_components_plotly"
   ]
  },
  {
   "cell_type": "code",
   "execution_count": 52,
   "id": "341add88",
   "metadata": {},
   "outputs": [
    {
     "name": "stderr",
     "output_type": "stream",
     "text": [
      "23:12:36 - cmdstanpy - INFO - Chain [1] start processing\n",
      "23:12:37 - cmdstanpy - INFO - Chain [1] done processing\n"
     ]
    },
    {
     "data": {
      "text/plain": [
       "<prophet.forecaster.Prophet at 0x18a26f5ab50>"
      ]
     },
     "execution_count": 52,
     "metadata": {},
     "output_type": "execute_result"
    }
   ],
   "source": [
    "prophet = Prophet(changepoint_prior_scale=0.15, daily_seasonality=True)\n",
    "prophet.fit(data_prophet)"
   ]
  },
  {
   "cell_type": "code",
   "execution_count": 53,
   "id": "5166d1b5",
   "metadata": {},
   "outputs": [
    {
     "data": {
      "text/html": [
       "<div>\n",
       "<style scoped>\n",
       "    .dataframe tbody tr th:only-of-type {\n",
       "        vertical-align: middle;\n",
       "    }\n",
       "\n",
       "    .dataframe tbody tr th {\n",
       "        vertical-align: top;\n",
       "    }\n",
       "\n",
       "    .dataframe thead th {\n",
       "        text-align: right;\n",
       "    }\n",
       "</style>\n",
       "<table border=\"1\" class=\"dataframe\">\n",
       "  <thead>\n",
       "    <tr style=\"text-align: right;\">\n",
       "      <th></th>\n",
       "      <th>ds</th>\n",
       "      <th>trend</th>\n",
       "      <th>yhat_lower</th>\n",
       "      <th>yhat_upper</th>\n",
       "      <th>trend_lower</th>\n",
       "      <th>trend_upper</th>\n",
       "      <th>additive_terms</th>\n",
       "      <th>additive_terms_lower</th>\n",
       "      <th>additive_terms_upper</th>\n",
       "      <th>daily</th>\n",
       "      <th>daily_lower</th>\n",
       "      <th>daily_upper</th>\n",
       "      <th>weekly</th>\n",
       "      <th>weekly_lower</th>\n",
       "      <th>weekly_upper</th>\n",
       "      <th>multiplicative_terms</th>\n",
       "      <th>multiplicative_terms_lower</th>\n",
       "      <th>multiplicative_terms_upper</th>\n",
       "      <th>yhat</th>\n",
       "    </tr>\n",
       "  </thead>\n",
       "  <tbody>\n",
       "    <tr>\n",
       "      <th>127</th>\n",
       "      <td>2022-06-28</td>\n",
       "      <td>72.360769</td>\n",
       "      <td>45.244045</td>\n",
       "      <td>97.921329</td>\n",
       "      <td>45.167907</td>\n",
       "      <td>97.467736</td>\n",
       "      <td>0.041352</td>\n",
       "      <td>0.041352</td>\n",
       "      <td>0.041352</td>\n",
       "      <td>-0.003972</td>\n",
       "      <td>-0.003972</td>\n",
       "      <td>-0.003972</td>\n",
       "      <td>0.045324</td>\n",
       "      <td>0.045324</td>\n",
       "      <td>0.045324</td>\n",
       "      <td>0.0</td>\n",
       "      <td>0.0</td>\n",
       "      <td>0.0</td>\n",
       "      <td>72.402121</td>\n",
       "    </tr>\n",
       "    <tr>\n",
       "      <th>128</th>\n",
       "      <td>2022-06-29</td>\n",
       "      <td>72.358412</td>\n",
       "      <td>44.909278</td>\n",
       "      <td>96.820973</td>\n",
       "      <td>44.915705</td>\n",
       "      <td>97.678336</td>\n",
       "      <td>-0.045974</td>\n",
       "      <td>-0.045974</td>\n",
       "      <td>-0.045974</td>\n",
       "      <td>-0.003972</td>\n",
       "      <td>-0.003972</td>\n",
       "      <td>-0.003972</td>\n",
       "      <td>-0.042002</td>\n",
       "      <td>-0.042002</td>\n",
       "      <td>-0.042002</td>\n",
       "      <td>0.0</td>\n",
       "      <td>0.0</td>\n",
       "      <td>0.0</td>\n",
       "      <td>72.312438</td>\n",
       "    </tr>\n",
       "    <tr>\n",
       "      <th>129</th>\n",
       "      <td>2022-06-30</td>\n",
       "      <td>72.356054</td>\n",
       "      <td>43.845615</td>\n",
       "      <td>97.803908</td>\n",
       "      <td>44.631613</td>\n",
       "      <td>97.888170</td>\n",
       "      <td>-0.061122</td>\n",
       "      <td>-0.061122</td>\n",
       "      <td>-0.061122</td>\n",
       "      <td>-0.003972</td>\n",
       "      <td>-0.003972</td>\n",
       "      <td>-0.003972</td>\n",
       "      <td>-0.057150</td>\n",
       "      <td>-0.057150</td>\n",
       "      <td>-0.057150</td>\n",
       "      <td>0.0</td>\n",
       "      <td>0.0</td>\n",
       "      <td>0.0</td>\n",
       "      <td>72.294932</td>\n",
       "    </tr>\n",
       "    <tr>\n",
       "      <th>130</th>\n",
       "      <td>2022-07-03</td>\n",
       "      <td>72.348981</td>\n",
       "      <td>43.636984</td>\n",
       "      <td>98.192220</td>\n",
       "      <td>43.706839</td>\n",
       "      <td>98.661777</td>\n",
       "      <td>-0.073837</td>\n",
       "      <td>-0.073837</td>\n",
       "      <td>-0.073837</td>\n",
       "      <td>-0.003972</td>\n",
       "      <td>-0.003972</td>\n",
       "      <td>-0.003972</td>\n",
       "      <td>-0.069865</td>\n",
       "      <td>-0.069865</td>\n",
       "      <td>-0.069865</td>\n",
       "      <td>0.0</td>\n",
       "      <td>0.0</td>\n",
       "      <td>0.0</td>\n",
       "      <td>72.275144</td>\n",
       "    </tr>\n",
       "    <tr>\n",
       "      <th>131</th>\n",
       "      <td>2022-07-04</td>\n",
       "      <td>72.346623</td>\n",
       "      <td>43.369980</td>\n",
       "      <td>98.961222</td>\n",
       "      <td>43.543027</td>\n",
       "      <td>98.876776</td>\n",
       "      <td>0.014909</td>\n",
       "      <td>0.014909</td>\n",
       "      <td>0.014909</td>\n",
       "      <td>-0.003972</td>\n",
       "      <td>-0.003972</td>\n",
       "      <td>-0.003972</td>\n",
       "      <td>0.018881</td>\n",
       "      <td>0.018881</td>\n",
       "      <td>0.018881</td>\n",
       "      <td>0.0</td>\n",
       "      <td>0.0</td>\n",
       "      <td>0.0</td>\n",
       "      <td>72.361532</td>\n",
       "    </tr>\n",
       "  </tbody>\n",
       "</table>\n",
       "</div>"
      ],
      "text/plain": [
       "            ds      trend  yhat_lower  yhat_upper  trend_lower  trend_upper  \\\n",
       "127 2022-06-28  72.360769   45.244045   97.921329    45.167907    97.467736   \n",
       "128 2022-06-29  72.358412   44.909278   96.820973    44.915705    97.678336   \n",
       "129 2022-06-30  72.356054   43.845615   97.803908    44.631613    97.888170   \n",
       "130 2022-07-03  72.348981   43.636984   98.192220    43.706839    98.661777   \n",
       "131 2022-07-04  72.346623   43.369980   98.961222    43.543027    98.876776   \n",
       "\n",
       "     additive_terms  additive_terms_lower  additive_terms_upper     daily  \\\n",
       "127        0.041352              0.041352              0.041352 -0.003972   \n",
       "128       -0.045974             -0.045974             -0.045974 -0.003972   \n",
       "129       -0.061122             -0.061122             -0.061122 -0.003972   \n",
       "130       -0.073837             -0.073837             -0.073837 -0.003972   \n",
       "131        0.014909              0.014909              0.014909 -0.003972   \n",
       "\n",
       "     daily_lower  daily_upper    weekly  weekly_lower  weekly_upper  \\\n",
       "127    -0.003972    -0.003972  0.045324      0.045324      0.045324   \n",
       "128    -0.003972    -0.003972 -0.042002     -0.042002     -0.042002   \n",
       "129    -0.003972    -0.003972 -0.057150     -0.057150     -0.057150   \n",
       "130    -0.003972    -0.003972 -0.069865     -0.069865     -0.069865   \n",
       "131    -0.003972    -0.003972  0.018881      0.018881      0.018881   \n",
       "\n",
       "     multiplicative_terms  multiplicative_terms_lower  \\\n",
       "127                   0.0                         0.0   \n",
       "128                   0.0                         0.0   \n",
       "129                   0.0                         0.0   \n",
       "130                   0.0                         0.0   \n",
       "131                   0.0                         0.0   \n",
       "\n",
       "     multiplicative_terms_upper       yhat  \n",
       "127                         0.0  72.402121  \n",
       "128                         0.0  72.312438  \n",
       "129                         0.0  72.294932  \n",
       "130                         0.0  72.275144  \n",
       "131                         0.0  72.361532  "
      ]
     },
     "execution_count": 53,
     "metadata": {},
     "output_type": "execute_result"
    }
   ],
   "source": [
    "forecast = prophet.predict(data_prophet_test)\n",
    "forecast.tail()"
   ]
  },
  {
   "cell_type": "code",
   "execution_count": 54,
   "id": "45430d2e",
   "metadata": {},
   "outputs": [],
   "source": [
    "forecast = forecast[['ds', 'yhat', 'yhat_lower',\t'yhat_upper']]"
   ]
  },
  {
   "cell_type": "code",
   "execution_count": 77,
   "id": "e0fb9523",
   "metadata": {},
   "outputs": [
    {
     "data": {
      "application/vnd.plotly.v1+json": {
       "config": {
        "plotlyServerURL": "https://plot.ly"
       },
       "data": [
        {
         "marker": {
          "color": "black",
          "size": 4
         },
         "mode": "markers",
         "name": "Actual",
         "type": "scatter",
         "x": [
          "2020-01-01T00:00:00",
          "2020-01-02T00:00:00",
          "2020-01-03T00:00:00",
          "2020-01-06T00:00:00",
          "2020-01-07T00:00:00",
          "2020-01-08T00:00:00",
          "2020-01-09T00:00:00",
          "2020-01-10T00:00:00",
          "2020-01-13T00:00:00",
          "2020-01-14T00:00:00",
          "2020-01-15T00:00:00",
          "2020-01-16T00:00:00",
          "2020-01-17T00:00:00",
          "2020-01-20T00:00:00",
          "2020-01-21T00:00:00",
          "2020-01-22T00:00:00",
          "2020-01-23T00:00:00",
          "2020-01-24T00:00:00",
          "2020-01-27T00:00:00",
          "2020-01-28T00:00:00",
          "2020-01-29T00:00:00",
          "2020-01-30T00:00:00",
          "2020-01-31T00:00:00",
          "2020-02-03T00:00:00",
          "2020-02-04T00:00:00",
          "2020-02-05T00:00:00",
          "2020-02-06T00:00:00",
          "2020-02-07T00:00:00",
          "2020-02-10T00:00:00",
          "2020-02-11T00:00:00",
          "2020-02-12T00:00:00",
          "2020-02-13T00:00:00",
          "2020-02-14T00:00:00",
          "2020-02-17T00:00:00",
          "2020-02-18T00:00:00",
          "2020-02-19T00:00:00",
          "2020-02-20T00:00:00",
          "2020-02-21T00:00:00",
          "2020-02-24T00:00:00",
          "2020-02-25T00:00:00",
          "2020-02-26T00:00:00",
          "2020-02-27T00:00:00",
          "2020-02-28T00:00:00",
          "2020-03-02T00:00:00",
          "2020-03-03T00:00:00",
          "2020-03-04T00:00:00",
          "2020-03-05T00:00:00",
          "2020-03-06T00:00:00",
          "2020-03-09T00:00:00",
          "2020-03-10T00:00:00",
          "2020-03-11T00:00:00",
          "2020-03-12T00:00:00",
          "2020-03-13T00:00:00",
          "2020-03-16T00:00:00",
          "2020-03-17T00:00:00",
          "2020-03-18T00:00:00",
          "2020-03-19T00:00:00",
          "2020-03-20T00:00:00",
          "2020-03-23T00:00:00",
          "2020-03-24T00:00:00",
          "2020-03-25T00:00:00",
          "2020-03-26T00:00:00",
          "2020-03-27T00:00:00",
          "2020-03-29T00:00:00",
          "2020-03-30T00:00:00",
          "2020-03-31T00:00:00",
          "2020-04-01T00:00:00",
          "2020-04-02T00:00:00",
          "2020-04-05T00:00:00",
          "2020-04-06T00:00:00",
          "2020-04-07T00:00:00",
          "2020-04-08T00:00:00",
          "2020-04-09T00:00:00",
          "2020-04-12T00:00:00",
          "2020-04-13T00:00:00",
          "2020-04-14T00:00:00",
          "2020-04-15T00:00:00",
          "2020-04-16T00:00:00",
          "2020-04-19T00:00:00",
          "2020-04-20T00:00:00",
          "2020-04-21T00:00:00",
          "2020-04-22T00:00:00",
          "2020-04-23T00:00:00",
          "2020-04-26T00:00:00",
          "2020-04-27T00:00:00",
          "2020-04-28T00:00:00",
          "2020-04-29T00:00:00",
          "2020-04-30T00:00:00",
          "2020-05-03T00:00:00",
          "2020-05-04T00:00:00",
          "2020-05-05T00:00:00",
          "2020-05-06T00:00:00",
          "2020-05-07T00:00:00",
          "2020-05-10T00:00:00",
          "2020-05-11T00:00:00",
          "2020-05-12T00:00:00",
          "2020-05-13T00:00:00",
          "2020-05-14T00:00:00",
          "2020-05-17T00:00:00",
          "2020-05-18T00:00:00",
          "2020-05-19T00:00:00",
          "2020-05-20T00:00:00",
          "2020-05-21T00:00:00",
          "2020-05-24T00:00:00",
          "2020-05-25T00:00:00",
          "2020-05-26T00:00:00",
          "2020-05-27T00:00:00",
          "2020-05-28T00:00:00",
          "2020-05-31T00:00:00",
          "2020-06-01T00:00:00",
          "2020-06-02T00:00:00",
          "2020-06-03T00:00:00",
          "2020-06-04T00:00:00",
          "2020-06-07T00:00:00",
          "2020-06-08T00:00:00",
          "2020-06-09T00:00:00",
          "2020-06-10T00:00:00",
          "2020-06-11T00:00:00",
          "2020-06-14T00:00:00",
          "2020-06-15T00:00:00",
          "2020-06-16T00:00:00",
          "2020-06-17T00:00:00",
          "2020-06-18T00:00:00",
          "2020-06-21T00:00:00",
          "2020-06-22T00:00:00",
          "2020-06-23T00:00:00",
          "2020-06-24T00:00:00",
          "2020-06-25T00:00:00",
          "2020-06-28T00:00:00",
          "2020-06-29T00:00:00",
          "2020-06-30T00:00:00",
          "2020-07-01T00:00:00",
          "2020-07-02T00:00:00",
          "2020-07-05T00:00:00",
          "2020-07-06T00:00:00",
          "2020-07-07T00:00:00",
          "2020-07-08T00:00:00",
          "2020-07-09T00:00:00",
          "2020-07-12T00:00:00",
          "2020-07-13T00:00:00",
          "2020-07-14T00:00:00",
          "2020-07-15T00:00:00",
          "2020-07-16T00:00:00",
          "2020-07-19T00:00:00",
          "2020-07-20T00:00:00",
          "2020-07-21T00:00:00",
          "2020-07-22T00:00:00",
          "2020-07-23T00:00:00",
          "2020-07-26T00:00:00",
          "2020-07-27T00:00:00",
          "2020-07-28T00:00:00",
          "2020-07-29T00:00:00",
          "2020-07-30T00:00:00",
          "2020-08-02T00:00:00",
          "2020-08-03T00:00:00",
          "2020-08-04T00:00:00",
          "2020-08-05T00:00:00",
          "2020-08-06T00:00:00",
          "2020-08-09T00:00:00",
          "2020-08-10T00:00:00",
          "2020-08-11T00:00:00",
          "2020-08-12T00:00:00",
          "2020-08-13T00:00:00",
          "2020-08-16T00:00:00",
          "2020-08-17T00:00:00",
          "2020-08-18T00:00:00",
          "2020-08-19T00:00:00",
          "2020-08-20T00:00:00",
          "2020-08-23T00:00:00",
          "2020-08-24T00:00:00",
          "2020-08-25T00:00:00",
          "2020-08-26T00:00:00",
          "2020-08-27T00:00:00",
          "2020-08-30T00:00:00",
          "2020-08-31T00:00:00",
          "2020-09-01T00:00:00",
          "2020-09-02T00:00:00",
          "2020-09-03T00:00:00",
          "2020-09-06T00:00:00",
          "2020-09-07T00:00:00",
          "2020-09-08T00:00:00",
          "2020-09-09T00:00:00",
          "2020-09-10T00:00:00",
          "2020-09-13T00:00:00",
          "2020-09-14T00:00:00",
          "2020-09-15T00:00:00",
          "2020-09-16T00:00:00",
          "2020-09-17T00:00:00",
          "2020-09-20T00:00:00",
          "2020-09-21T00:00:00",
          "2020-09-22T00:00:00",
          "2020-09-23T00:00:00",
          "2020-09-24T00:00:00",
          "2020-09-27T00:00:00",
          "2020-09-28T00:00:00",
          "2020-09-29T00:00:00",
          "2020-09-30T00:00:00",
          "2020-10-01T00:00:00",
          "2020-10-04T00:00:00",
          "2020-10-05T00:00:00",
          "2020-10-06T00:00:00",
          "2020-10-07T00:00:00",
          "2020-10-08T00:00:00",
          "2020-10-11T00:00:00",
          "2020-10-12T00:00:00",
          "2020-10-13T00:00:00",
          "2020-10-14T00:00:00",
          "2020-10-15T00:00:00",
          "2020-10-18T00:00:00",
          "2020-10-19T00:00:00",
          "2020-10-20T00:00:00",
          "2020-10-21T00:00:00",
          "2020-10-22T00:00:00",
          "2020-10-26T00:00:00",
          "2020-10-27T00:00:00",
          "2020-10-28T00:00:00",
          "2020-10-29T00:00:00",
          "2020-10-30T00:00:00",
          "2020-11-02T00:00:00",
          "2020-11-03T00:00:00",
          "2020-11-04T00:00:00",
          "2020-11-05T00:00:00",
          "2020-11-06T00:00:00",
          "2020-11-09T00:00:00",
          "2020-11-10T00:00:00",
          "2020-11-11T00:00:00",
          "2020-11-12T00:00:00",
          "2020-11-13T00:00:00",
          "2020-11-16T00:00:00",
          "2020-11-17T00:00:00",
          "2020-11-18T00:00:00",
          "2020-11-19T00:00:00",
          "2020-11-20T00:00:00",
          "2020-11-23T00:00:00",
          "2020-11-24T00:00:00",
          "2020-11-25T00:00:00",
          "2020-11-26T00:00:00",
          "2020-11-27T00:00:00",
          "2020-11-30T00:00:00",
          "2020-12-01T00:00:00",
          "2020-12-02T00:00:00",
          "2020-12-03T00:00:00",
          "2020-12-04T00:00:00",
          "2020-12-07T00:00:00",
          "2020-12-08T00:00:00",
          "2020-12-09T00:00:00",
          "2020-12-10T00:00:00",
          "2020-12-11T00:00:00",
          "2020-12-14T00:00:00",
          "2020-12-15T00:00:00",
          "2020-12-16T00:00:00",
          "2020-12-17T00:00:00",
          "2020-12-18T00:00:00",
          "2020-12-21T00:00:00",
          "2020-12-22T00:00:00",
          "2020-12-23T00:00:00",
          "2020-12-24T00:00:00",
          "2020-12-25T00:00:00",
          "2020-12-28T00:00:00",
          "2020-12-29T00:00:00",
          "2020-12-30T00:00:00",
          "2020-12-31T00:00:00",
          "2021-01-01T00:00:00",
          "2021-01-04T00:00:00",
          "2021-01-05T00:00:00",
          "2021-01-06T00:00:00",
          "2021-01-07T00:00:00",
          "2021-01-08T00:00:00",
          "2021-01-11T00:00:00",
          "2021-01-12T00:00:00",
          "2021-01-13T00:00:00",
          "2021-01-14T00:00:00",
          "2021-01-15T00:00:00",
          "2021-01-18T00:00:00",
          "2021-01-19T00:00:00",
          "2021-01-20T00:00:00",
          "2021-01-21T00:00:00",
          "2021-01-22T00:00:00",
          "2021-01-25T00:00:00",
          "2021-01-26T00:00:00",
          "2021-01-27T00:00:00",
          "2021-01-28T00:00:00",
          "2021-01-29T00:00:00",
          "2021-02-01T00:00:00",
          "2021-02-02T00:00:00",
          "2021-02-03T00:00:00",
          "2021-02-04T00:00:00",
          "2021-02-05T00:00:00",
          "2021-02-08T00:00:00",
          "2021-02-09T00:00:00",
          "2021-02-10T00:00:00",
          "2021-02-11T00:00:00",
          "2021-02-12T00:00:00",
          "2021-02-15T00:00:00",
          "2021-02-16T00:00:00",
          "2021-02-17T00:00:00",
          "2021-02-18T00:00:00",
          "2021-02-19T00:00:00",
          "2021-02-22T00:00:00",
          "2021-02-23T00:00:00",
          "2021-02-24T00:00:00",
          "2021-02-25T00:00:00",
          "2021-02-26T00:00:00",
          "2021-03-01T00:00:00",
          "2021-03-02T00:00:00",
          "2021-03-03T00:00:00",
          "2021-03-04T00:00:00",
          "2021-03-05T00:00:00",
          "2021-03-08T00:00:00",
          "2021-03-09T00:00:00",
          "2021-03-10T00:00:00",
          "2021-03-11T00:00:00",
          "2021-03-12T00:00:00",
          "2021-03-15T00:00:00",
          "2021-03-16T00:00:00",
          "2021-03-17T00:00:00",
          "2021-03-18T00:00:00",
          "2021-03-19T00:00:00",
          "2021-03-22T00:00:00",
          "2021-03-23T00:00:00",
          "2021-03-24T00:00:00",
          "2021-03-25T00:00:00",
          "2021-03-26T00:00:00",
          "2021-03-28T00:00:00",
          "2021-03-29T00:00:00",
          "2021-03-30T00:00:00",
          "2021-03-31T00:00:00",
          "2021-04-01T00:00:00",
          "2021-04-04T00:00:00",
          "2021-04-05T00:00:00",
          "2021-04-06T00:00:00",
          "2021-04-07T00:00:00",
          "2021-04-08T00:00:00",
          "2021-04-11T00:00:00",
          "2021-04-12T00:00:00",
          "2021-04-13T00:00:00",
          "2021-04-14T00:00:00",
          "2021-04-15T00:00:00",
          "2021-04-18T00:00:00",
          "2021-04-19T00:00:00",
          "2021-04-20T00:00:00",
          "2021-04-21T00:00:00",
          "2021-04-22T00:00:00",
          "2021-04-25T00:00:00",
          "2021-04-26T00:00:00",
          "2021-04-27T00:00:00",
          "2021-04-28T00:00:00",
          "2021-04-29T00:00:00",
          "2021-05-02T00:00:00",
          "2021-05-03T00:00:00",
          "2021-05-04T00:00:00",
          "2021-05-05T00:00:00",
          "2021-05-06T00:00:00",
          "2021-05-09T00:00:00",
          "2021-05-10T00:00:00",
          "2021-05-11T00:00:00",
          "2021-05-12T00:00:00",
          "2021-05-13T00:00:00",
          "2021-05-16T00:00:00",
          "2021-05-17T00:00:00",
          "2021-05-18T00:00:00",
          "2021-05-19T00:00:00",
          "2021-05-20T00:00:00",
          "2021-05-23T00:00:00",
          "2021-05-24T00:00:00",
          "2021-05-25T00:00:00",
          "2021-05-26T00:00:00",
          "2021-05-27T00:00:00",
          "2021-05-30T00:00:00",
          "2021-05-31T00:00:00",
          "2021-06-01T00:00:00",
          "2021-06-02T00:00:00",
          "2021-06-03T00:00:00",
          "2021-06-06T00:00:00",
          "2021-06-07T00:00:00",
          "2021-06-08T00:00:00",
          "2021-06-09T00:00:00",
          "2021-06-10T00:00:00",
          "2021-06-13T00:00:00",
          "2021-06-14T00:00:00",
          "2021-06-15T00:00:00",
          "2021-06-16T00:00:00",
          "2021-06-17T00:00:00",
          "2021-06-20T00:00:00",
          "2021-06-21T00:00:00",
          "2021-06-22T00:00:00",
          "2021-06-23T00:00:00",
          "2021-06-24T00:00:00",
          "2021-06-27T00:00:00",
          "2021-06-28T00:00:00",
          "2021-06-29T00:00:00",
          "2021-06-30T00:00:00",
          "2021-07-01T00:00:00",
          "2021-07-04T00:00:00",
          "2021-07-05T00:00:00",
          "2021-07-06T00:00:00",
          "2021-07-07T00:00:00",
          "2021-07-08T00:00:00",
          "2021-07-11T00:00:00",
          "2021-07-12T00:00:00",
          "2021-07-13T00:00:00",
          "2021-07-14T00:00:00",
          "2021-07-15T00:00:00",
          "2021-07-18T00:00:00",
          "2021-07-19T00:00:00",
          "2021-07-20T00:00:00",
          "2021-07-21T00:00:00",
          "2021-07-22T00:00:00",
          "2021-07-25T00:00:00",
          "2021-07-26T00:00:00",
          "2021-07-27T00:00:00",
          "2021-07-28T00:00:00",
          "2021-07-29T00:00:00",
          "2021-08-01T00:00:00",
          "2021-08-02T00:00:00",
          "2021-08-03T00:00:00",
          "2021-08-04T00:00:00",
          "2021-08-05T00:00:00",
          "2021-08-08T00:00:00",
          "2021-08-09T00:00:00",
          "2021-08-10T00:00:00",
          "2021-08-11T00:00:00",
          "2021-08-12T00:00:00",
          "2021-08-15T00:00:00",
          "2021-08-16T00:00:00",
          "2021-08-17T00:00:00",
          "2021-08-18T00:00:00",
          "2021-08-19T00:00:00",
          "2021-08-22T00:00:00",
          "2021-08-23T00:00:00",
          "2021-08-24T00:00:00",
          "2021-08-25T00:00:00",
          "2021-08-26T00:00:00",
          "2021-08-29T00:00:00",
          "2021-08-30T00:00:00",
          "2021-08-31T00:00:00",
          "2021-09-01T00:00:00",
          "2021-09-02T00:00:00",
          "2021-09-05T00:00:00",
          "2021-09-06T00:00:00",
          "2021-09-07T00:00:00",
          "2021-09-08T00:00:00",
          "2021-09-09T00:00:00",
          "2021-09-12T00:00:00",
          "2021-09-13T00:00:00",
          "2021-09-14T00:00:00",
          "2021-09-15T00:00:00",
          "2021-09-16T00:00:00",
          "2021-09-19T00:00:00",
          "2021-09-20T00:00:00",
          "2021-09-21T00:00:00",
          "2021-09-22T00:00:00",
          "2021-09-23T00:00:00",
          "2021-09-26T00:00:00",
          "2021-09-27T00:00:00",
          "2021-09-28T00:00:00",
          "2021-09-29T00:00:00",
          "2021-09-30T00:00:00",
          "2021-10-03T00:00:00",
          "2021-10-04T00:00:00",
          "2021-10-05T00:00:00",
          "2021-10-06T00:00:00",
          "2021-10-07T00:00:00",
          "2021-10-10T00:00:00",
          "2021-10-11T00:00:00",
          "2021-10-12T00:00:00",
          "2021-10-13T00:00:00",
          "2021-10-14T00:00:00",
          "2021-10-17T00:00:00",
          "2021-10-18T00:00:00",
          "2021-10-19T00:00:00",
          "2021-10-20T00:00:00",
          "2021-10-21T00:00:00",
          "2021-10-24T00:00:00",
          "2021-10-25T00:00:00",
          "2021-10-26T00:00:00",
          "2021-10-27T00:00:00",
          "2021-10-28T00:00:00",
          "2021-11-01T00:00:00",
          "2021-11-02T00:00:00",
          "2021-11-03T00:00:00",
          "2021-11-04T00:00:00",
          "2021-11-05T00:00:00",
          "2021-11-08T00:00:00",
          "2021-11-09T00:00:00",
          "2021-11-10T00:00:00",
          "2021-11-11T00:00:00",
          "2021-11-12T00:00:00",
          "2021-11-15T00:00:00",
          "2021-11-16T00:00:00",
          "2021-11-17T00:00:00",
          "2021-11-18T00:00:00",
          "2021-11-19T00:00:00",
          "2021-11-22T00:00:00",
          "2021-11-23T00:00:00",
          "2021-11-24T00:00:00",
          "2021-11-25T00:00:00",
          "2021-11-26T00:00:00",
          "2021-11-29T00:00:00",
          "2021-11-30T00:00:00",
          "2021-12-01T00:00:00",
          "2021-12-02T00:00:00",
          "2021-12-03T00:00:00",
          "2021-12-06T00:00:00",
          "2021-12-07T00:00:00",
          "2021-12-08T00:00:00",
          "2021-12-09T00:00:00",
          "2021-12-10T00:00:00",
          "2021-12-13T00:00:00",
          "2021-12-14T00:00:00",
          "2021-12-15T00:00:00",
          "2021-12-16T00:00:00",
          "2021-12-17T00:00:00",
          "2021-12-20T00:00:00",
          "2021-12-21T00:00:00",
          "2021-12-22T00:00:00",
          "2021-12-23T00:00:00",
          "2021-12-24T00:00:00",
          "2021-12-27T00:00:00",
          "2021-12-28T00:00:00",
          "2021-12-29T00:00:00",
          "2021-12-30T00:00:00"
         ],
         "y": [
          62.02830123901367,
          61.83000183105469,
          61.69419860839844,
          62.029998779296875,
          61.775001525878906,
          61.93090057373047,
          61.26190185546875,
          61.2661018371582,
          61.005001068115234,
          61.1879997253418,
          61.4025993347168,
          61.344398498535156,
          61.57749938964844,
          61.56740188598633,
          61.568599700927734,
          61.85969924926758,
          61.87799835205078,
          61.892799377441406,
          62.13100051879883,
          62.89390182495117,
          62.21329879760742,
          62.51649856567383,
          63.19609832763672,
          63.89030075073242,
          63.653099060058594,
          62.92620086669922,
          62.83879852294922,
          63.27000045776367,
          64.12930297851562,
          64.07830047607422,
          63.32429885864258,
          63.198001861572266,
          63.634498596191406,
          63.52510070800781,
          63.46549987792969,
          63.865699768066406,
          63.52069854736328,
          64.1261978149414,
          64.0541000366211,
          65.32369995117188,
          65.27839660644531,
          65.45130157470703,
          66.26909637451172,
          67.13099670410156,
          66.25569915771484,
          66.17960357666016,
          66.19200134277344,
          67.53939819335938,
          72.05000305175781,
          74.64099884033203,
          71.05020141601562,
          73.11499786376953,
          74.89810180664062,
          73.23799896240234,
          74.3563003540039,
          75.29750061035156,
          80.91999816894531,
          78.9655990600586,
          79.83869934082031,
          79.44280242919922,
          78.26319885253906,
          78.32849884033203,
          77.44029998779297,
          78.6520004272461,
          79.58920288085938,
          78.41419982910156,
          78.66619873046875,
          77.09950256347656,
          77.09750366210938,
          75.95559692382812,
          75.53510284423828,
          75.04810333251953,
          74.26380157470703,
          73.66329956054688,
          73.60289764404297,
          73.0154037475586,
          74.81849670410156,
          74.19740295410156,
          74.06510162353516,
          75.4092025756836,
          76.92009735107422,
          75.93009948730469,
          74.91500091552734,
          74.59329986572266,
          74.46499633789062,
          74.14739990234375,
          73.06539916992188,
          74.3385009765625,
          75.42749786376953,
          74.72489929199219,
          73.69860076904297,
          74.46499633789062,
          73.88870239257812,
          73.39340209960938,
          73.62139892578125,
          73.60269927978516,
          73.94779968261719,
          73.50969696044922,
          73.5969009399414,
          72.69059753417969,
          72.49189758300781,
          71.21170043945312,
          70.90480041503906,
          71.57440185546875,
          71.6187973022461,
          70.7594985961914,
          71.02230072021484,
          70.50489807128906,
          70.16010284423828,
          69.07640075683594,
          68.66010284423828,
          68.49749755859375,
          69.02729797363281,
          68.13680267333984,
          68.0905990600586,
          68.5863037109375,
          68.41739654541016,
          70.06759643554688,
          69.50640106201172,
          69.57250213623047,
          69.58689880371094,
          69.72799682617188,
          69.92019653320312,
          69.64710235595703,
          69.091796875,
          68.72429656982422,
          69.4905014038086,
          69.05829620361328,
          69.72429656982422,
          69.9729995727539,
          71.15070343017578,
          70.85870361328125,
          70.58830261230469,
          71.33110046386719,
          71.78800201416016,
          71.41000366210938,
          71.2041015625,
          70.74440002441406,
          70.69750213623047,
          70.77159881591797,
          70.95809936523438,
          71.00430297851562,
          71.54840087890625,
          71.82530212402344,
          71.4906997680664,
          70.69709777832031,
          71.12989807128906,
          71.30490112304688,
          71.70999908447266,
          71.54010009765625,
          72.4740982055664,
          72.47579956054688,
          73.32150268554688,
          74.3550033569336,
          73.03669738769531,
          73.38890075683594,
          72.81439971923828,
          73.16230010986328,
          73.71499633789062,
          73.5260009765625,
          73.06490325927734,
          73.7780990600586,
          72.91449737548828,
          72.95719909667969,
          73.63020324707031,
          73.0459976196289,
          73.25659942626953,
          73.8687973022461,
          74.7300033569336,
          74.5999984741211,
          75.30889892578125,
          75.5873031616211,
          74.98410034179688,
          74.13020324707031,
          73.81289672851562,
          73.55960083007812,
          75.46269989013672,
          75.29519653320312,
          75.31729888916016,
          75.71810150146484,
          76.23699951171875,
          75.32369995117188,
          75.14350128173828,
          74.86499786376953,
          75.206298828125,
          75.20050048828125,
          74.86009979248047,
          74.95719909667969,
          75.54850006103516,
          76.29219818115234,
          76.01899719238281,
          76.79730224609375,
          77.02639770507812,
          78.10379791259766,
          79.1613998413086,
          78.96510314941406,
          77.66560363769531,
          77.2061996459961,
          78.13999938964844,
          78.1093978881836,
          78.372802734375,
          78.0824966430664,
          77.27960205078125,
          76.8385009765625,
          77.00019836425781,
          77.0259017944336,
          77.71540069580078,
          77.92070007324219,
          77.51699829101562,
          77.58820343017578,
          77.2822036743164,
          76.67890167236328,
          76.53839874267578,
          76.16950225830078,
          76.44950103759766,
          77.2865982055664,
          79.052001953125,
          78.83830261230469,
          79.47090148925781,
          80.52189636230469,
          79.04989624023438,
          77.5636978149414,
          76.88719940185547,
          77.31649780273438,
          76.26370239257812,
          76.46240234375,
          77.04750061035156,
          77.07450103759766,
          77.31790161132812,
          76.27629852294922,
          76.20950317382812,
          75.8843994140625,
          76.16519927978516,
          76.17890167236328,
          75.96170043945312,
          75.41790008544922,
          75.44599914550781,
          75.64990234375,
          75.99150085449219,
          76.40480041503906,
          75.95850372314453,
          75.11070251464844,
          74.48889923095703,
          73.8550033569336,
          73.74610137939453,
          73.34049987792969,
          73.61129760742188,
          73.07820129394531,
          73.03199768066406,
          74.12129974365234,
          73.27850341796875,
          73.347900390625,
          73.09040069580078,
          73.48100280761719,
          74.55130004882812,
          75.87809753417969,
          75.02020263671875,
          74.02999877929688,
          73.95490264892578,
          73.93049621582031,
          74.02140045166016,
          74.52200317382812,
          73.91120147705078,
          74.12740325927734,
          74.47540283203125,
          74.13510131835938,
          74.09149932861328,
          74.59510040283203,
          74.4020004272461,
          74.62809753417969,
          73.44020080566406,
          73.8488998413086,
          73.32530212402344,
          73.59860229492188,
          73.92980194091797,
          73.77100372314453,
          73.45339965820312,
          73.94770050048828,
          75.31490325927734,
          75.2822036743164,
          75.07009887695312,
          75.87339782714844,
          76.1666030883789,
          75.88179779052734,
          76.11360168457031,
          76.22049713134766,
          75.885498046875,
          75.4906997680664,
          74.60790252685547,
          74.3228988647461,
          73.87670135498047,
          73.86650085449219,
          73.63899993896484,
          73.57319641113281,
          73.33200073242188,
          73.5416030883789,
          73.7156982421875,
          73.83380126953125,
          74.14360046386719,
          74.22450256347656,
          74.07080078125,
          73.49469757080078,
          74.706298828125,
          74.6709976196289,
          74.25150299072266,
          73.78880310058594,
          74.01429748535156,
          74.55500030517578,
          74.32720184326172,
          74.47460174560547,
          74.02950286865234,
          73.5239028930664,
          73.30030059814453,
          73.31849670410156,
          72.73500061035156,
          72.86799621582031,
          73.65480041503906,
          74.32160186767578,
          74.15370178222656,
          74.7958984375,
          76.3313980102539,
          76.61620330810547,
          76.11710357666016,
          75.66110229492188,
          75.65460205078125,
          75.90399932861328,
          75.67489624023438,
          76.26429748535156,
          76.41519927978516,
          76.43409729003906,
          77.00050354003906,
          77.15809631347656,
          76.79199981689453,
          77.38700103759766,
          77.29119873046875,
          75.91850280761719,
          76.01419830322266,
          76.07849884033203,
          75.95500183105469,
          76.27210235595703,
          76.822998046875,
          76.56900024414062,
          75.50550079345703,
          74.908203125,
          74.9751968383789,
          74.7791976928711,
          74.3635025024414,
          74.72930145263672,
          75.19750213623047,
          74.89430236816406,
          74.7322998046875,
          74.80370330810547,
          74.1886978149414,
          73.5707015991211,
          74.27649688720703,
          74.16739654541016,
          74.60050201416016,
          73.997802734375,
          73.95770263671875,
          73.78260040283203,
          73.67140197753906,
          73.73169708251953,
          73.46900177001953,
          73.61280059814453,
          73.43890380859375,
          73.47149658203125,
          73.53900146484375,
          73.44020080566406,
          73.1947021484375,
          73.39839935302734,
          73.5154037475586,
          73.14510345458984,
          73.2145004272461,
          73.00160217285156,
          72.7925033569336,
          72.24310302734375,
          72.302001953125,
          71.74099731445312,
          72.06330108642578,
          72.02030181884766,
          72.20939636230469,
          72.56539916992188,
          72.38919830322266,
          72.7979965209961,
          73.08899688720703,
          72.86199951171875,
          72.63079833984375,
          72.2969970703125,
          72.20999908447266,
          72.20439910888672,
          72.72239685058594,
          73.05449676513672,
          73.45690155029297,
          73.21489715576172,
          73.39630126953125,
          74.4988021850586,
          74.69920349121094,
          74.71170043945312,
          74.2531967163086,
          74.36689758300781,
          74.33460235595703,
          74.12629699707031,
          74.36869812011719,
          74.05899810791016,
          74.6613998413086,
          74.34729766845703,
          73.94120025634766,
          73.65509796142578,
          73.677001953125,
          73.68090057373047,
          73.70909881591797,
          73.4386978149414,
          73.15299987792969,
          73.08789825439453,
          72.95809936523438,
          72.939697265625,
          73.17859649658203,
          73.12090301513672,
          73.5031967163086,
          73.62059783935547,
          73.9219970703125,
          73.40149688720703,
          73.53839874267578,
          73.15010070800781,
          73.28269958496094,
          73.595703125,
          73.84349822998047,
          74.27510070800781,
          74.19509887695312,
          74.08049774169922,
          73.7614974975586,
          73.7699966430664,
          74.26750183105469,
          73.40119934082031,
          73.41649627685547,
          73.27259826660156,
          72.9813003540039,
          73.00890350341797,
          72.77220153808594,
          72.96820068359375,
          73.36319732666016,
          73.24569702148438,
          72.86199951171875,
          73.09609985351562,
          72.64399719238281,
          72.87960052490234,
          72.2406005859375,
          72.47250366210938,
          72.80850219726562,
          73.36000061035156,
          73.00150299072266,
          72.91590118408203,
          72.6729965209961,
          72.6968994140625,
          72.58460235595703,
          72.83920288085938,
          72.84590148925781,
          72.71720123291016,
          72.74500274658203,
          72.47989654541016,
          72.29090118408203,
          72.39459991455078,
          71.78350067138672,
          71.75330352783203,
          71.83509826660156,
          71.84649658203125,
          71.96900177001953,
          71.36750030517578,
          71.03150177001953,
          71.18900299072266,
          70.82859802246094,
          70.81909942626953,
          71.1166000366211,
          70.35250091552734,
          69.80590057373047,
          69.45379638671875,
          70.58049774169922,
          70.14240264892578,
          70.82340240478516,
          71.57990264892578,
          71.60540008544922,
          71.69560241699219,
          71.40599822998047,
          71.27320098876953,
          71.21980285644531,
          70.70449829101562,
          71.23860168457031,
          71.56400299072266,
          72.85929870605469,
          72.48280334472656,
          73.09750366210938,
          72.55870056152344,
          73.06500244140625,
          73.53299713134766,
          74.97039794921875,
          74.27149963378906,
          74.93299865722656,
          74.5282974243164,
          75.5199966430664,
          74.43920135498047,
          74.0790023803711,
          74.24600219726562,
          73.61949920654297,
          73.8677978515625,
          74.34819793701172,
          73.99030303955078,
          73.52349853515625,
          73.61499786376953,
          73.40869903564453,
          73.4625015258789,
          73.79340362548828,
          73.60130310058594,
          73.76020050048828,
          74.0625991821289,
          74.0634994506836,
          73.86959838867188,
          73.61129760742188,
          73.29879760742188,
          73.61000061035156,
          73.35900115966797,
          73.6675033569336,
          73.9749984741211
         ]
        },
        {
         "hoverinfo": "skip",
         "line": {
          "width": 0
         },
         "mode": "lines",
         "type": "scatter",
         "x": [
          "2022-01-03T00:00:00",
          "2022-01-04T00:00:00",
          "2022-01-05T00:00:00",
          "2022-01-06T00:00:00",
          "2022-01-07T00:00:00",
          "2022-01-10T00:00:00",
          "2022-01-11T00:00:00",
          "2022-01-12T00:00:00",
          "2022-01-13T00:00:00",
          "2022-01-14T00:00:00",
          "2022-01-17T00:00:00",
          "2022-01-18T00:00:00",
          "2022-01-19T00:00:00",
          "2022-01-20T00:00:00",
          "2022-01-21T00:00:00",
          "2022-01-24T00:00:00",
          "2022-01-25T00:00:00",
          "2022-01-26T00:00:00",
          "2022-01-27T00:00:00",
          "2022-01-28T00:00:00",
          "2022-01-31T00:00:00",
          "2022-02-01T00:00:00",
          "2022-02-02T00:00:00",
          "2022-02-03T00:00:00",
          "2022-02-04T00:00:00",
          "2022-02-07T00:00:00",
          "2022-02-08T00:00:00",
          "2022-02-09T00:00:00",
          "2022-02-10T00:00:00",
          "2022-02-11T00:00:00",
          "2022-02-14T00:00:00",
          "2022-02-15T00:00:00",
          "2022-02-16T00:00:00",
          "2022-02-17T00:00:00",
          "2022-02-18T00:00:00",
          "2022-02-21T00:00:00",
          "2022-02-22T00:00:00",
          "2022-02-23T00:00:00",
          "2022-02-24T00:00:00",
          "2022-02-25T00:00:00",
          "2022-02-28T00:00:00",
          "2022-03-01T00:00:00",
          "2022-03-02T00:00:00",
          "2022-03-03T00:00:00",
          "2022-03-04T00:00:00",
          "2022-03-07T00:00:00",
          "2022-03-08T00:00:00",
          "2022-03-09T00:00:00",
          "2022-03-10T00:00:00",
          "2022-03-11T00:00:00",
          "2022-03-14T00:00:00",
          "2022-03-15T00:00:00",
          "2022-03-16T00:00:00",
          "2022-03-17T00:00:00",
          "2022-03-18T00:00:00",
          "2022-03-21T00:00:00",
          "2022-03-22T00:00:00",
          "2022-03-23T00:00:00",
          "2022-03-24T00:00:00",
          "2022-03-25T00:00:00",
          "2022-03-27T00:00:00",
          "2022-03-28T00:00:00",
          "2022-03-29T00:00:00",
          "2022-03-30T00:00:00",
          "2022-03-31T00:00:00",
          "2022-04-03T00:00:00",
          "2022-04-04T00:00:00",
          "2022-04-05T00:00:00",
          "2022-04-06T00:00:00",
          "2022-04-07T00:00:00",
          "2022-04-10T00:00:00",
          "2022-04-11T00:00:00",
          "2022-04-12T00:00:00",
          "2022-04-13T00:00:00",
          "2022-04-14T00:00:00",
          "2022-04-17T00:00:00",
          "2022-04-18T00:00:00",
          "2022-04-19T00:00:00",
          "2022-04-20T00:00:00",
          "2022-04-21T00:00:00",
          "2022-04-24T00:00:00",
          "2022-04-25T00:00:00",
          "2022-04-26T00:00:00",
          "2022-04-27T00:00:00",
          "2022-04-28T00:00:00",
          "2022-05-01T00:00:00",
          "2022-05-02T00:00:00",
          "2022-05-03T00:00:00",
          "2022-05-04T00:00:00",
          "2022-05-05T00:00:00",
          "2022-05-08T00:00:00",
          "2022-05-09T00:00:00",
          "2022-05-10T00:00:00",
          "2022-05-11T00:00:00",
          "2022-05-12T00:00:00",
          "2022-05-15T00:00:00",
          "2022-05-16T00:00:00",
          "2022-05-17T00:00:00",
          "2022-05-18T00:00:00",
          "2022-05-19T00:00:00",
          "2022-05-22T00:00:00",
          "2022-05-23T00:00:00",
          "2022-05-24T00:00:00",
          "2022-05-25T00:00:00",
          "2022-05-26T00:00:00",
          "2022-05-29T00:00:00",
          "2022-05-30T00:00:00",
          "2022-05-31T00:00:00",
          "2022-06-01T00:00:00",
          "2022-06-02T00:00:00",
          "2022-06-05T00:00:00",
          "2022-06-06T00:00:00",
          "2022-06-07T00:00:00",
          "2022-06-08T00:00:00",
          "2022-06-09T00:00:00",
          "2022-06-12T00:00:00",
          "2022-06-13T00:00:00",
          "2022-06-14T00:00:00",
          "2022-06-15T00:00:00",
          "2022-06-16T00:00:00",
          "2022-06-19T00:00:00",
          "2022-06-20T00:00:00",
          "2022-06-21T00:00:00",
          "2022-06-22T00:00:00",
          "2022-06-23T00:00:00",
          "2022-06-26T00:00:00",
          "2022-06-27T00:00:00",
          "2022-06-28T00:00:00",
          "2022-06-29T00:00:00",
          "2022-06-30T00:00:00",
          "2022-07-03T00:00:00",
          "2022-07-04T00:00:00"
         ],
         "y": [
          71.431658567269,
          71.51136053759038,
          71.37648454410072,
          71.22221895213129,
          71.36456311248058,
          71.35070500678167,
          71.25698409129062,
          71.1768604862573,
          71.24500851191674,
          71.37309562252746,
          71.16602904700514,
          71.1697218787463,
          70.98128852856354,
          70.93948953157742,
          71.07631800021102,
          70.9338154616119,
          70.90682563108356,
          70.81165521489534,
          70.72977741988997,
          70.88257043758833,
          70.73137782850688,
          70.63219088268275,
          70.44668127247745,
          70.43365996735719,
          70.42361753671851,
          70.1340353669313,
          70.10277867230923,
          69.94511268280263,
          69.89265212236673,
          70.02406420621759,
          69.52134176096966,
          69.5021157313754,
          69.44861487958035,
          69.20414521517134,
          69.38063527440032,
          68.9902329363111,
          68.65411333861312,
          68.4148878083451,
          68.36542993459615,
          68.5100068230675,
          68.22776166325394,
          67.67962775272235,
          67.56112443864968,
          67.37473661478819,
          67.41522570541947,
          66.90735264393211,
          66.91970988251211,
          66.54273690256893,
          66.22942644523357,
          66.36826141749236,
          65.48439050237864,
          65.67266174955105,
          65.61292711334862,
          65.32365713650577,
          64.987828246894,
          64.64577082082167,
          64.76172868606741,
          64.43936046643172,
          64.17361237867448,
          64.45189264603428,
          63.497192584476615,
          63.67257810391625,
          63.73377534953242,
          63.39510269911448,
          63.16411924517246,
          62.4728606051033,
          62.923523229021285,
          62.00195157032351,
          61.870270578110976,
          62.027073622919,
          61.44933859802652,
          61.2110649283963,
          61.47742669043359,
          60.658632413683776,
          60.754423334417055,
          60.293968984683694,
          59.76740858112536,
          59.687763794928614,
          59.032392917911366,
          59.45670204777968,
          58.98964243545526,
          58.383200751670344,
          57.8180224787816,
          57.571184099134015,
          57.744411845322446,
          57.03421068095736,
          56.846168814979116,
          56.79807731263656,
          56.44995496070826,
          56.32605613263385,
          55.763773897449504,
          55.34900456274113,
          55.40404155580701,
          55.299293356395566,
          55.27738962324429,
          54.64385814583856,
          54.524405223554034,
          54.15328900732832,
          54.00562492651492,
          53.68407653377787,
          53.42417411420338,
          53.11236751359703,
          53.34965350245031,
          52.038459350526935,
          52.47051870045771,
          51.83605947487488,
          51.57663832647843,
          51.772034419921525,
          51.83132465875677,
          51.34735963327594,
          50.66784657822228,
          50.07180333505486,
          50.20140236059724,
          49.898594860881715,
          50.37177813717076,
          49.7854856415414,
          48.87099548979205,
          48.10466837302067,
          48.44425133647436,
          48.09217238629246,
          47.560471671882866,
          47.496876095157134,
          47.01268743003002,
          47.099095562660004,
          46.55156277714634,
          45.57984119519218,
          45.65884128362286,
          45.244044643316805,
          44.909277798258415,
          43.84561502680769,
          43.63698396100113,
          43.36997986787743
         ]
        },
        {
         "fill": "tonexty",
         "fillcolor": "rgba(0, 114, 178, 0.2)",
         "line": {
          "color": "#0072B2",
          "width": 2
         },
         "mode": "lines",
         "name": "Predicted",
         "type": "scatter",
         "x": [
          "2022-01-03T00:00:00",
          "2022-01-04T00:00:00",
          "2022-01-05T00:00:00",
          "2022-01-06T00:00:00",
          "2022-01-07T00:00:00",
          "2022-01-10T00:00:00",
          "2022-01-11T00:00:00",
          "2022-01-12T00:00:00",
          "2022-01-13T00:00:00",
          "2022-01-14T00:00:00",
          "2022-01-17T00:00:00",
          "2022-01-18T00:00:00",
          "2022-01-19T00:00:00",
          "2022-01-20T00:00:00",
          "2022-01-21T00:00:00",
          "2022-01-24T00:00:00",
          "2022-01-25T00:00:00",
          "2022-01-26T00:00:00",
          "2022-01-27T00:00:00",
          "2022-01-28T00:00:00",
          "2022-01-31T00:00:00",
          "2022-02-01T00:00:00",
          "2022-02-02T00:00:00",
          "2022-02-03T00:00:00",
          "2022-02-04T00:00:00",
          "2022-02-07T00:00:00",
          "2022-02-08T00:00:00",
          "2022-02-09T00:00:00",
          "2022-02-10T00:00:00",
          "2022-02-11T00:00:00",
          "2022-02-14T00:00:00",
          "2022-02-15T00:00:00",
          "2022-02-16T00:00:00",
          "2022-02-17T00:00:00",
          "2022-02-18T00:00:00",
          "2022-02-21T00:00:00",
          "2022-02-22T00:00:00",
          "2022-02-23T00:00:00",
          "2022-02-24T00:00:00",
          "2022-02-25T00:00:00",
          "2022-02-28T00:00:00",
          "2022-03-01T00:00:00",
          "2022-03-02T00:00:00",
          "2022-03-03T00:00:00",
          "2022-03-04T00:00:00",
          "2022-03-07T00:00:00",
          "2022-03-08T00:00:00",
          "2022-03-09T00:00:00",
          "2022-03-10T00:00:00",
          "2022-03-11T00:00:00",
          "2022-03-14T00:00:00",
          "2022-03-15T00:00:00",
          "2022-03-16T00:00:00",
          "2022-03-17T00:00:00",
          "2022-03-18T00:00:00",
          "2022-03-21T00:00:00",
          "2022-03-22T00:00:00",
          "2022-03-23T00:00:00",
          "2022-03-24T00:00:00",
          "2022-03-25T00:00:00",
          "2022-03-27T00:00:00",
          "2022-03-28T00:00:00",
          "2022-03-29T00:00:00",
          "2022-03-30T00:00:00",
          "2022-03-31T00:00:00",
          "2022-04-03T00:00:00",
          "2022-04-04T00:00:00",
          "2022-04-05T00:00:00",
          "2022-04-06T00:00:00",
          "2022-04-07T00:00:00",
          "2022-04-10T00:00:00",
          "2022-04-11T00:00:00",
          "2022-04-12T00:00:00",
          "2022-04-13T00:00:00",
          "2022-04-14T00:00:00",
          "2022-04-17T00:00:00",
          "2022-04-18T00:00:00",
          "2022-04-19T00:00:00",
          "2022-04-20T00:00:00",
          "2022-04-21T00:00:00",
          "2022-04-24T00:00:00",
          "2022-04-25T00:00:00",
          "2022-04-26T00:00:00",
          "2022-04-27T00:00:00",
          "2022-04-28T00:00:00",
          "2022-05-01T00:00:00",
          "2022-05-02T00:00:00",
          "2022-05-03T00:00:00",
          "2022-05-04T00:00:00",
          "2022-05-05T00:00:00",
          "2022-05-08T00:00:00",
          "2022-05-09T00:00:00",
          "2022-05-10T00:00:00",
          "2022-05-11T00:00:00",
          "2022-05-12T00:00:00",
          "2022-05-15T00:00:00",
          "2022-05-16T00:00:00",
          "2022-05-17T00:00:00",
          "2022-05-18T00:00:00",
          "2022-05-19T00:00:00",
          "2022-05-22T00:00:00",
          "2022-05-23T00:00:00",
          "2022-05-24T00:00:00",
          "2022-05-25T00:00:00",
          "2022-05-26T00:00:00",
          "2022-05-29T00:00:00",
          "2022-05-30T00:00:00",
          "2022-05-31T00:00:00",
          "2022-06-01T00:00:00",
          "2022-06-02T00:00:00",
          "2022-06-05T00:00:00",
          "2022-06-06T00:00:00",
          "2022-06-07T00:00:00",
          "2022-06-08T00:00:00",
          "2022-06-09T00:00:00",
          "2022-06-12T00:00:00",
          "2022-06-13T00:00:00",
          "2022-06-14T00:00:00",
          "2022-06-15T00:00:00",
          "2022-06-16T00:00:00",
          "2022-06-19T00:00:00",
          "2022-06-20T00:00:00",
          "2022-06-21T00:00:00",
          "2022-06-22T00:00:00",
          "2022-06-23T00:00:00",
          "2022-06-26T00:00:00",
          "2022-06-27T00:00:00",
          "2022-06-28T00:00:00",
          "2022-06-29T00:00:00",
          "2022-06-30T00:00:00",
          "2022-07-03T00:00:00",
          "2022-07-04T00:00:00"
         ],
         "y": [
          72.79062170275886,
          72.81470689676361,
          72.7250236927099,
          72.70751806002322,
          72.86662510199393,
          72.77411825844732,
          72.79820345245199,
          72.70852024839819,
          72.69101461571165,
          72.85012165768208,
          72.75761481413576,
          72.78170000814035,
          72.69201680408682,
          72.67451117140006,
          72.83361821337044,
          72.74111136982354,
          72.76519656382845,
          72.6755133597751,
          72.65800772708847,
          72.81711476905879,
          72.72460792551199,
          72.74869311951683,
          72.65900991546327,
          72.64150428277688,
          72.80061132474698,
          72.70810448120045,
          72.73218967520506,
          72.64250647115165,
          72.6250008384648,
          72.78410788043529,
          72.6916010368889,
          72.7156862308936,
          72.62600302683984,
          72.6084973941532,
          72.76760443612368,
          72.67509759257719,
          72.69918278658184,
          72.60949958252802,
          72.59199394984162,
          72.75110099181201,
          72.65859414826579,
          72.6826793422702,
          72.59299613821638,
          72.57549050552952,
          72.73459754750036,
          72.64209070395408,
          72.66617589795844,
          72.57649269390495,
          72.55898706121795,
          72.71809410318872,
          72.62558725964202,
          72.64967245364667,
          72.55998924959322,
          72.54248361690634,
          72.70159065887711,
          72.60908381533046,
          72.63316900933492,
          72.5434858052814,
          72.52598017259477,
          72.68508721456526,
          72.50619209360444,
          72.59258037101893,
          72.6166655650233,
          72.52698236097014,
          72.50947672828319,
          72.48968864929273,
          72.57607692670722,
          72.60016212071169,
          72.51047891665833,
          72.49297328397158,
          72.473185204981,
          72.5595734823955,
          72.58365867640006,
          72.4939754723466,
          72.47646983966001,
          72.45668176066943,
          72.54307003808411,
          72.56715523208831,
          72.47747202803488,
          72.45996639534792,
          72.44017831635757,
          72.52656659377242,
          72.55065178777684,
          72.46096858372314,
          72.44346295103635,
          72.423674872046,
          72.51006314946035,
          72.53414834346508,
          72.44446513941134,
          72.42695950672473,
          72.40717142773431,
          72.4935597051488,
          72.51764489915344,
          72.4279616950997,
          72.41045606241316,
          72.39066798342274,
          72.47705626083724,
          72.50114145484183,
          72.41145825078824,
          72.39395261810158,
          72.3741645391109,
          72.46055281652504,
          72.48463801052993,
          72.39495480647652,
          72.37744917378947,
          72.3576610947993,
          72.44404937221364,
          72.4681345662183,
          72.37845136216471,
          72.36094572947788,
          72.3411576504876,
          72.42754592790193,
          72.45163112190653,
          72.36194791785307,
          72.34444228516631,
          72.3246542061759,
          72.41104248359038,
          72.43512767759506,
          72.34544447354126,
          72.32793884085471,
          72.30815076186417,
          72.3945390392787,
          72.4186242332833,
          72.32894102922981,
          72.31143539654315,
          72.2916473175526,
          72.37803559496729,
          72.40212078897167,
          72.31243758491819,
          72.29493195223104,
          72.27514387324076,
          72.36153215065559
         ]
        },
        {
         "fill": "tonexty",
         "fillcolor": "rgba(0, 114, 178, 0.2)",
         "hoverinfo": "skip",
         "line": {
          "width": 0
         },
         "mode": "lines",
         "type": "scatter",
         "x": [
          "2022-01-03T00:00:00",
          "2022-01-04T00:00:00",
          "2022-01-05T00:00:00",
          "2022-01-06T00:00:00",
          "2022-01-07T00:00:00",
          "2022-01-10T00:00:00",
          "2022-01-11T00:00:00",
          "2022-01-12T00:00:00",
          "2022-01-13T00:00:00",
          "2022-01-14T00:00:00",
          "2022-01-17T00:00:00",
          "2022-01-18T00:00:00",
          "2022-01-19T00:00:00",
          "2022-01-20T00:00:00",
          "2022-01-21T00:00:00",
          "2022-01-24T00:00:00",
          "2022-01-25T00:00:00",
          "2022-01-26T00:00:00",
          "2022-01-27T00:00:00",
          "2022-01-28T00:00:00",
          "2022-01-31T00:00:00",
          "2022-02-01T00:00:00",
          "2022-02-02T00:00:00",
          "2022-02-03T00:00:00",
          "2022-02-04T00:00:00",
          "2022-02-07T00:00:00",
          "2022-02-08T00:00:00",
          "2022-02-09T00:00:00",
          "2022-02-10T00:00:00",
          "2022-02-11T00:00:00",
          "2022-02-14T00:00:00",
          "2022-02-15T00:00:00",
          "2022-02-16T00:00:00",
          "2022-02-17T00:00:00",
          "2022-02-18T00:00:00",
          "2022-02-21T00:00:00",
          "2022-02-22T00:00:00",
          "2022-02-23T00:00:00",
          "2022-02-24T00:00:00",
          "2022-02-25T00:00:00",
          "2022-02-28T00:00:00",
          "2022-03-01T00:00:00",
          "2022-03-02T00:00:00",
          "2022-03-03T00:00:00",
          "2022-03-04T00:00:00",
          "2022-03-07T00:00:00",
          "2022-03-08T00:00:00",
          "2022-03-09T00:00:00",
          "2022-03-10T00:00:00",
          "2022-03-11T00:00:00",
          "2022-03-14T00:00:00",
          "2022-03-15T00:00:00",
          "2022-03-16T00:00:00",
          "2022-03-17T00:00:00",
          "2022-03-18T00:00:00",
          "2022-03-21T00:00:00",
          "2022-03-22T00:00:00",
          "2022-03-23T00:00:00",
          "2022-03-24T00:00:00",
          "2022-03-25T00:00:00",
          "2022-03-27T00:00:00",
          "2022-03-28T00:00:00",
          "2022-03-29T00:00:00",
          "2022-03-30T00:00:00",
          "2022-03-31T00:00:00",
          "2022-04-03T00:00:00",
          "2022-04-04T00:00:00",
          "2022-04-05T00:00:00",
          "2022-04-06T00:00:00",
          "2022-04-07T00:00:00",
          "2022-04-10T00:00:00",
          "2022-04-11T00:00:00",
          "2022-04-12T00:00:00",
          "2022-04-13T00:00:00",
          "2022-04-14T00:00:00",
          "2022-04-17T00:00:00",
          "2022-04-18T00:00:00",
          "2022-04-19T00:00:00",
          "2022-04-20T00:00:00",
          "2022-04-21T00:00:00",
          "2022-04-24T00:00:00",
          "2022-04-25T00:00:00",
          "2022-04-26T00:00:00",
          "2022-04-27T00:00:00",
          "2022-04-28T00:00:00",
          "2022-05-01T00:00:00",
          "2022-05-02T00:00:00",
          "2022-05-03T00:00:00",
          "2022-05-04T00:00:00",
          "2022-05-05T00:00:00",
          "2022-05-08T00:00:00",
          "2022-05-09T00:00:00",
          "2022-05-10T00:00:00",
          "2022-05-11T00:00:00",
          "2022-05-12T00:00:00",
          "2022-05-15T00:00:00",
          "2022-05-16T00:00:00",
          "2022-05-17T00:00:00",
          "2022-05-18T00:00:00",
          "2022-05-19T00:00:00",
          "2022-05-22T00:00:00",
          "2022-05-23T00:00:00",
          "2022-05-24T00:00:00",
          "2022-05-25T00:00:00",
          "2022-05-26T00:00:00",
          "2022-05-29T00:00:00",
          "2022-05-30T00:00:00",
          "2022-05-31T00:00:00",
          "2022-06-01T00:00:00",
          "2022-06-02T00:00:00",
          "2022-06-05T00:00:00",
          "2022-06-06T00:00:00",
          "2022-06-07T00:00:00",
          "2022-06-08T00:00:00",
          "2022-06-09T00:00:00",
          "2022-06-12T00:00:00",
          "2022-06-13T00:00:00",
          "2022-06-14T00:00:00",
          "2022-06-15T00:00:00",
          "2022-06-16T00:00:00",
          "2022-06-19T00:00:00",
          "2022-06-20T00:00:00",
          "2022-06-21T00:00:00",
          "2022-06-22T00:00:00",
          "2022-06-23T00:00:00",
          "2022-06-26T00:00:00",
          "2022-06-27T00:00:00",
          "2022-06-28T00:00:00",
          "2022-06-29T00:00:00",
          "2022-06-30T00:00:00",
          "2022-07-03T00:00:00",
          "2022-07-04T00:00:00"
         ],
         "y": [
          74.1455379842395,
          74.22047766657334,
          74.23177371930001,
          74.09676180165594,
          74.26368904363841,
          74.23935931862101,
          74.279247084884,
          74.16119410794944,
          74.20991051624091,
          74.33859075325056,
          74.39274653323064,
          74.41180236939498,
          74.22953411501622,
          74.38201923853214,
          74.36828259871436,
          74.42344090719482,
          74.55796533695462,
          74.4872791812079,
          74.45801535041677,
          74.61771957849126,
          74.54257789604898,
          74.84631877739575,
          74.7097809495785,
          74.81861134936563,
          75.02559631297775,
          75.05093783925994,
          75.17751338569853,
          74.99794133985542,
          75.2827946023041,
          75.48146121558557,
          75.2442073119184,
          75.57491903152713,
          75.4518114912882,
          75.69975360719658,
          76.00886745490983,
          76.14590337052002,
          76.17204471499234,
          76.26595873119976,
          76.3846984063175,
          76.66669697200084,
          76.65779705394623,
          76.8246029802915,
          77.09357713801035,
          77.21186580372972,
          77.68579040151087,
          77.51269155112482,
          77.72126470011261,
          77.73183808902209,
          77.6845888611458,
          78.26134922600015,
          78.61577885708107,
          78.56441260008435,
          78.87019067798316,
          78.70599333120661,
          79.04535976506124,
          79.39856076734644,
          79.57680280473963,
          79.4981164654228,
          79.98724267283085,
          79.80097036976542,
          79.98018803930114,
          80.55011719339063,
          80.43454840830972,
          80.47148534762987,
          80.79441215668145,
          81.11496793289339,
          81.38269853046366,
          81.73994928488756,
          81.40026511381407,
          81.80947691824846,
          82.07592622140123,
          82.40931634139172,
          82.83955634879815,
          82.54575054189155,
          82.83847584960957,
          83.77849575796844,
          84.37114204378774,
          84.1832700098433,
          84.10726619377765,
          83.76293247574371,
          84.81089192632894,
          84.94953009557553,
          84.97754917561802,
          85.15973064044421,
          84.99767329631938,
          85.90410771880136,
          86.21337119859278,
          86.62702400330701,
          86.89796004911632,
          86.18844134876987,
          87.22263004075376,
          87.86864329811901,
          87.68157840291964,
          88.17675031397465,
          88.22309730358909,
          89.06862127517408,
          89.13590504181701,
          89.430063896302,
          89.57949624502189,
          89.38198948671186,
          89.94775329630325,
          90.20412297272419,
          90.68681031146254,
          90.83703070467551,
          90.8150477925886,
          91.34447857075789,
          91.9040518449166,
          91.81271670081587,
          91.87486232967855,
          92.27304200173171,
          91.91855045210508,
          92.53847911150505,
          93.06405690022723,
          92.95170982380901,
          92.82434765182137,
          93.78752666329663,
          94.04831573888079,
          94.43253542746575,
          94.64166370637993,
          94.58629448804675,
          95.60339721696893,
          95.72932405256232,
          95.56676178755922,
          96.0698718447614,
          95.85740044517908,
          97.38164822723914,
          97.70708669722437,
          97.92132931343913,
          96.82097327970554,
          97.80390849080487,
          98.19221952151695,
          98.96122219352942
         ]
        }
       ],
       "layout": {
        "height": 600,
        "showlegend": false,
        "template": {
         "data": {
          "bar": [
           {
            "error_x": {
             "color": "#2a3f5f"
            },
            "error_y": {
             "color": "#2a3f5f"
            },
            "marker": {
             "line": {
              "color": "#E5ECF6",
              "width": 0.5
             },
             "pattern": {
              "fillmode": "overlay",
              "size": 10,
              "solidity": 0.2
             }
            },
            "type": "bar"
           }
          ],
          "barpolar": [
           {
            "marker": {
             "line": {
              "color": "#E5ECF6",
              "width": 0.5
             },
             "pattern": {
              "fillmode": "overlay",
              "size": 10,
              "solidity": 0.2
             }
            },
            "type": "barpolar"
           }
          ],
          "carpet": [
           {
            "aaxis": {
             "endlinecolor": "#2a3f5f",
             "gridcolor": "white",
             "linecolor": "white",
             "minorgridcolor": "white",
             "startlinecolor": "#2a3f5f"
            },
            "baxis": {
             "endlinecolor": "#2a3f5f",
             "gridcolor": "white",
             "linecolor": "white",
             "minorgridcolor": "white",
             "startlinecolor": "#2a3f5f"
            },
            "type": "carpet"
           }
          ],
          "choropleth": [
           {
            "colorbar": {
             "outlinewidth": 0,
             "ticks": ""
            },
            "type": "choropleth"
           }
          ],
          "contour": [
           {
            "colorbar": {
             "outlinewidth": 0,
             "ticks": ""
            },
            "colorscale": [
             [
              0,
              "#0d0887"
             ],
             [
              0.1111111111111111,
              "#46039f"
             ],
             [
              0.2222222222222222,
              "#7201a8"
             ],
             [
              0.3333333333333333,
              "#9c179e"
             ],
             [
              0.4444444444444444,
              "#bd3786"
             ],
             [
              0.5555555555555556,
              "#d8576b"
             ],
             [
              0.6666666666666666,
              "#ed7953"
             ],
             [
              0.7777777777777778,
              "#fb9f3a"
             ],
             [
              0.8888888888888888,
              "#fdca26"
             ],
             [
              1,
              "#f0f921"
             ]
            ],
            "type": "contour"
           }
          ],
          "contourcarpet": [
           {
            "colorbar": {
             "outlinewidth": 0,
             "ticks": ""
            },
            "type": "contourcarpet"
           }
          ],
          "heatmap": [
           {
            "colorbar": {
             "outlinewidth": 0,
             "ticks": ""
            },
            "colorscale": [
             [
              0,
              "#0d0887"
             ],
             [
              0.1111111111111111,
              "#46039f"
             ],
             [
              0.2222222222222222,
              "#7201a8"
             ],
             [
              0.3333333333333333,
              "#9c179e"
             ],
             [
              0.4444444444444444,
              "#bd3786"
             ],
             [
              0.5555555555555556,
              "#d8576b"
             ],
             [
              0.6666666666666666,
              "#ed7953"
             ],
             [
              0.7777777777777778,
              "#fb9f3a"
             ],
             [
              0.8888888888888888,
              "#fdca26"
             ],
             [
              1,
              "#f0f921"
             ]
            ],
            "type": "heatmap"
           }
          ],
          "heatmapgl": [
           {
            "colorbar": {
             "outlinewidth": 0,
             "ticks": ""
            },
            "colorscale": [
             [
              0,
              "#0d0887"
             ],
             [
              0.1111111111111111,
              "#46039f"
             ],
             [
              0.2222222222222222,
              "#7201a8"
             ],
             [
              0.3333333333333333,
              "#9c179e"
             ],
             [
              0.4444444444444444,
              "#bd3786"
             ],
             [
              0.5555555555555556,
              "#d8576b"
             ],
             [
              0.6666666666666666,
              "#ed7953"
             ],
             [
              0.7777777777777778,
              "#fb9f3a"
             ],
             [
              0.8888888888888888,
              "#fdca26"
             ],
             [
              1,
              "#f0f921"
             ]
            ],
            "type": "heatmapgl"
           }
          ],
          "histogram": [
           {
            "marker": {
             "pattern": {
              "fillmode": "overlay",
              "size": 10,
              "solidity": 0.2
             }
            },
            "type": "histogram"
           }
          ],
          "histogram2d": [
           {
            "colorbar": {
             "outlinewidth": 0,
             "ticks": ""
            },
            "colorscale": [
             [
              0,
              "#0d0887"
             ],
             [
              0.1111111111111111,
              "#46039f"
             ],
             [
              0.2222222222222222,
              "#7201a8"
             ],
             [
              0.3333333333333333,
              "#9c179e"
             ],
             [
              0.4444444444444444,
              "#bd3786"
             ],
             [
              0.5555555555555556,
              "#d8576b"
             ],
             [
              0.6666666666666666,
              "#ed7953"
             ],
             [
              0.7777777777777778,
              "#fb9f3a"
             ],
             [
              0.8888888888888888,
              "#fdca26"
             ],
             [
              1,
              "#f0f921"
             ]
            ],
            "type": "histogram2d"
           }
          ],
          "histogram2dcontour": [
           {
            "colorbar": {
             "outlinewidth": 0,
             "ticks": ""
            },
            "colorscale": [
             [
              0,
              "#0d0887"
             ],
             [
              0.1111111111111111,
              "#46039f"
             ],
             [
              0.2222222222222222,
              "#7201a8"
             ],
             [
              0.3333333333333333,
              "#9c179e"
             ],
             [
              0.4444444444444444,
              "#bd3786"
             ],
             [
              0.5555555555555556,
              "#d8576b"
             ],
             [
              0.6666666666666666,
              "#ed7953"
             ],
             [
              0.7777777777777778,
              "#fb9f3a"
             ],
             [
              0.8888888888888888,
              "#fdca26"
             ],
             [
              1,
              "#f0f921"
             ]
            ],
            "type": "histogram2dcontour"
           }
          ],
          "mesh3d": [
           {
            "colorbar": {
             "outlinewidth": 0,
             "ticks": ""
            },
            "type": "mesh3d"
           }
          ],
          "parcoords": [
           {
            "line": {
             "colorbar": {
              "outlinewidth": 0,
              "ticks": ""
             }
            },
            "type": "parcoords"
           }
          ],
          "pie": [
           {
            "automargin": true,
            "type": "pie"
           }
          ],
          "scatter": [
           {
            "fillpattern": {
             "fillmode": "overlay",
             "size": 10,
             "solidity": 0.2
            },
            "type": "scatter"
           }
          ],
          "scatter3d": [
           {
            "line": {
             "colorbar": {
              "outlinewidth": 0,
              "ticks": ""
             }
            },
            "marker": {
             "colorbar": {
              "outlinewidth": 0,
              "ticks": ""
             }
            },
            "type": "scatter3d"
           }
          ],
          "scattercarpet": [
           {
            "marker": {
             "colorbar": {
              "outlinewidth": 0,
              "ticks": ""
             }
            },
            "type": "scattercarpet"
           }
          ],
          "scattergeo": [
           {
            "marker": {
             "colorbar": {
              "outlinewidth": 0,
              "ticks": ""
             }
            },
            "type": "scattergeo"
           }
          ],
          "scattergl": [
           {
            "marker": {
             "colorbar": {
              "outlinewidth": 0,
              "ticks": ""
             }
            },
            "type": "scattergl"
           }
          ],
          "scattermapbox": [
           {
            "marker": {
             "colorbar": {
              "outlinewidth": 0,
              "ticks": ""
             }
            },
            "type": "scattermapbox"
           }
          ],
          "scatterpolar": [
           {
            "marker": {
             "colorbar": {
              "outlinewidth": 0,
              "ticks": ""
             }
            },
            "type": "scatterpolar"
           }
          ],
          "scatterpolargl": [
           {
            "marker": {
             "colorbar": {
              "outlinewidth": 0,
              "ticks": ""
             }
            },
            "type": "scatterpolargl"
           }
          ],
          "scatterternary": [
           {
            "marker": {
             "colorbar": {
              "outlinewidth": 0,
              "ticks": ""
             }
            },
            "type": "scatterternary"
           }
          ],
          "surface": [
           {
            "colorbar": {
             "outlinewidth": 0,
             "ticks": ""
            },
            "colorscale": [
             [
              0,
              "#0d0887"
             ],
             [
              0.1111111111111111,
              "#46039f"
             ],
             [
              0.2222222222222222,
              "#7201a8"
             ],
             [
              0.3333333333333333,
              "#9c179e"
             ],
             [
              0.4444444444444444,
              "#bd3786"
             ],
             [
              0.5555555555555556,
              "#d8576b"
             ],
             [
              0.6666666666666666,
              "#ed7953"
             ],
             [
              0.7777777777777778,
              "#fb9f3a"
             ],
             [
              0.8888888888888888,
              "#fdca26"
             ],
             [
              1,
              "#f0f921"
             ]
            ],
            "type": "surface"
           }
          ],
          "table": [
           {
            "cells": {
             "fill": {
              "color": "#EBF0F8"
             },
             "line": {
              "color": "white"
             }
            },
            "header": {
             "fill": {
              "color": "#C8D4E3"
             },
             "line": {
              "color": "white"
             }
            },
            "type": "table"
           }
          ]
         },
         "layout": {
          "annotationdefaults": {
           "arrowcolor": "#2a3f5f",
           "arrowhead": 0,
           "arrowwidth": 1
          },
          "autotypenumbers": "strict",
          "coloraxis": {
           "colorbar": {
            "outlinewidth": 0,
            "ticks": ""
           }
          },
          "colorscale": {
           "diverging": [
            [
             0,
             "#8e0152"
            ],
            [
             0.1,
             "#c51b7d"
            ],
            [
             0.2,
             "#de77ae"
            ],
            [
             0.3,
             "#f1b6da"
            ],
            [
             0.4,
             "#fde0ef"
            ],
            [
             0.5,
             "#f7f7f7"
            ],
            [
             0.6,
             "#e6f5d0"
            ],
            [
             0.7,
             "#b8e186"
            ],
            [
             0.8,
             "#7fbc41"
            ],
            [
             0.9,
             "#4d9221"
            ],
            [
             1,
             "#276419"
            ]
           ],
           "sequential": [
            [
             0,
             "#0d0887"
            ],
            [
             0.1111111111111111,
             "#46039f"
            ],
            [
             0.2222222222222222,
             "#7201a8"
            ],
            [
             0.3333333333333333,
             "#9c179e"
            ],
            [
             0.4444444444444444,
             "#bd3786"
            ],
            [
             0.5555555555555556,
             "#d8576b"
            ],
            [
             0.6666666666666666,
             "#ed7953"
            ],
            [
             0.7777777777777778,
             "#fb9f3a"
            ],
            [
             0.8888888888888888,
             "#fdca26"
            ],
            [
             1,
             "#f0f921"
            ]
           ],
           "sequentialminus": [
            [
             0,
             "#0d0887"
            ],
            [
             0.1111111111111111,
             "#46039f"
            ],
            [
             0.2222222222222222,
             "#7201a8"
            ],
            [
             0.3333333333333333,
             "#9c179e"
            ],
            [
             0.4444444444444444,
             "#bd3786"
            ],
            [
             0.5555555555555556,
             "#d8576b"
            ],
            [
             0.6666666666666666,
             "#ed7953"
            ],
            [
             0.7777777777777778,
             "#fb9f3a"
            ],
            [
             0.8888888888888888,
             "#fdca26"
            ],
            [
             1,
             "#f0f921"
            ]
           ]
          },
          "colorway": [
           "#636efa",
           "#EF553B",
           "#00cc96",
           "#ab63fa",
           "#FFA15A",
           "#19d3f3",
           "#FF6692",
           "#B6E880",
           "#FF97FF",
           "#FECB52"
          ],
          "font": {
           "color": "#2a3f5f"
          },
          "geo": {
           "bgcolor": "white",
           "lakecolor": "white",
           "landcolor": "#E5ECF6",
           "showlakes": true,
           "showland": true,
           "subunitcolor": "white"
          },
          "hoverlabel": {
           "align": "left"
          },
          "hovermode": "closest",
          "mapbox": {
           "style": "light"
          },
          "paper_bgcolor": "white",
          "plot_bgcolor": "#E5ECF6",
          "polar": {
           "angularaxis": {
            "gridcolor": "white",
            "linecolor": "white",
            "ticks": ""
           },
           "bgcolor": "#E5ECF6",
           "radialaxis": {
            "gridcolor": "white",
            "linecolor": "white",
            "ticks": ""
           }
          },
          "scene": {
           "xaxis": {
            "backgroundcolor": "#E5ECF6",
            "gridcolor": "white",
            "gridwidth": 2,
            "linecolor": "white",
            "showbackground": true,
            "ticks": "",
            "zerolinecolor": "white"
           },
           "yaxis": {
            "backgroundcolor": "#E5ECF6",
            "gridcolor": "white",
            "gridwidth": 2,
            "linecolor": "white",
            "showbackground": true,
            "ticks": "",
            "zerolinecolor": "white"
           },
           "zaxis": {
            "backgroundcolor": "#E5ECF6",
            "gridcolor": "white",
            "gridwidth": 2,
            "linecolor": "white",
            "showbackground": true,
            "ticks": "",
            "zerolinecolor": "white"
           }
          },
          "shapedefaults": {
           "line": {
            "color": "#2a3f5f"
           }
          },
          "ternary": {
           "aaxis": {
            "gridcolor": "white",
            "linecolor": "white",
            "ticks": ""
           },
           "baxis": {
            "gridcolor": "white",
            "linecolor": "white",
            "ticks": ""
           },
           "bgcolor": "#E5ECF6",
           "caxis": {
            "gridcolor": "white",
            "linecolor": "white",
            "ticks": ""
           }
          },
          "title": {
           "x": 0.05
          },
          "xaxis": {
           "automargin": true,
           "gridcolor": "white",
           "linecolor": "white",
           "ticks": "",
           "title": {
            "standoff": 15
           },
           "zerolinecolor": "white",
           "zerolinewidth": 2
          },
          "yaxis": {
           "automargin": true,
           "gridcolor": "white",
           "linecolor": "white",
           "ticks": "",
           "title": {
            "standoff": 15
           },
           "zerolinecolor": "white",
           "zerolinewidth": 2
          }
         }
        },
        "width": 900,
        "xaxis": {
         "rangeselector": {
          "buttons": [
           {
            "count": 7,
            "label": "1w",
            "step": "day",
            "stepmode": "backward"
           },
           {
            "count": 1,
            "label": "1m",
            "step": "month",
            "stepmode": "backward"
           },
           {
            "count": 6,
            "label": "6m",
            "step": "month",
            "stepmode": "backward"
           },
           {
            "count": 1,
            "label": "1y",
            "step": "year",
            "stepmode": "backward"
           },
           {
            "step": "all"
           }
          ]
         },
         "rangeslider": {
          "visible": true
         },
         "title": {
          "text": "ds"
         },
         "type": "date"
        },
        "yaxis": {
         "title": {
          "text": "y"
         }
        }
       }
      }
     },
     "metadata": {},
     "output_type": "display_data"
    }
   ],
   "source": [
    "plot_plotly(prophet, forecast)\n",
    "\n"
   ]
  },
  {
   "cell_type": "markdown",
   "id": "c1e16f46",
   "metadata": {},
   "source": [
    "### EVALUTION OF THE PROPHET MODEL"
   ]
  },
  {
   "cell_type": "code",
   "execution_count": 57,
   "id": "98e3e7fb",
   "metadata": {},
   "outputs": [],
   "source": [
    "#creating a dataframe to compare the actual target variable to the predicted target\n",
    "#variable\n",
    "\n",
    "act_pred_comparison = pd.DataFrame(columns = ['Date','Ya', 'Yp'])\n",
    "\n",
    "act_pred_comparison['Yp'] = forecast['yhat']\n",
    "\n",
    "act_pred_comparison['Ya'] = data_prophet_test['y']\n",
    "\n",
    "act_pred_comparison['Date'] = data_prophet_test['ds']\n",
    "\n"
   ]
  },
  {
   "cell_type": "code",
   "execution_count": 83,
   "id": "27a48e59",
   "metadata": {},
   "outputs": [
    {
     "data": {
      "image/png": "[encoded data removed]",
      "text/plain": [
       "<Figure size 1440x720 with 1 Axes>"
      ]
     },
     "metadata": {
      "needs_background": "light"
     },
     "output_type": "display_data"
    },
    {
     "name": "stdout",
     "output_type": "stream",
     "text": [
      "The rmse for the prophet model is: 19.59573968926403\n",
      "The MAE is : 13.494744632265668\n",
      "The mean value for actual target variable: 78.24348137595437\n"
     ]
    }
   ],
   "source": [
    "plt.figure(figsize=(20,10))\n",
    "plt.plot(act_pred_comparison['Date'], act_pred_comparison['Yp'],color='green', linestyle='dashed',label='Predicted Price')\n",
    "plt.plot(act_pred_comparison['Date'], act_pred_comparison['Ya'], color='red', label='Actual Price')\n",
    "plt.title('Comparison of actual and predicted rate for  FaceBook Prophet')\n",
    "plt.xlabel('Day')\n",
    "plt.ylabel('Prices')\n",
    "plt.legend()\n",
    "plt.show()\n",
    "        \n",
    "\n",
    "#Evaluating the facebook prophet model\n",
    "print('The rmse for the prophet model is:' , rmse(forecast['yhat'], data_prophet_test['y']))\n",
    "\n",
    "\n",
    "print('The MAE is :',mean_absolute_error(forecast['yhat'], data_prophet_test['y'])\n",
    ")\n",
    "print('The mean value for actual target variable:' , data_prophet_test['y'].mean())"
   ]
  },
  {
   "cell_type": "markdown",
   "id": "3c00edb6",
   "metadata": {},
   "source": [
    "## XGBOOST"
   ]
  },
  {
   "cell_type": "code",
   "execution_count": 59,
   "id": "5dcc8534",
   "metadata": {},
   "outputs": [
    {
     "data": {
      "text/html": [
       "<div>\n",
       "<style scoped>\n",
       "    .dataframe tbody tr th:only-of-type {\n",
       "        vertical-align: middle;\n",
       "    }\n",
       "\n",
       "    .dataframe tbody tr th {\n",
       "        vertical-align: top;\n",
       "    }\n",
       "\n",
       "    .dataframe thead th {\n",
       "        text-align: right;\n",
       "    }\n",
       "</style>\n",
       "<table border=\"1\" class=\"dataframe\">\n",
       "  <thead>\n",
       "    <tr style=\"text-align: right;\">\n",
       "      <th></th>\n",
       "      <th>Date</th>\n",
       "      <th>Adj_close</th>\n",
       "    </tr>\n",
       "  </thead>\n",
       "  <tbody>\n",
       "    <tr>\n",
       "      <th>0</th>\n",
       "      <td>2020-01-01</td>\n",
       "      <td>62.028301</td>\n",
       "    </tr>\n",
       "    <tr>\n",
       "      <th>1</th>\n",
       "      <td>2020-01-02</td>\n",
       "      <td>61.830002</td>\n",
       "    </tr>\n",
       "    <tr>\n",
       "      <th>2</th>\n",
       "      <td>2020-01-03</td>\n",
       "      <td>61.694199</td>\n",
       "    </tr>\n",
       "    <tr>\n",
       "      <th>3</th>\n",
       "      <td>2020-01-06</td>\n",
       "      <td>62.029999</td>\n",
       "    </tr>\n",
       "    <tr>\n",
       "      <th>4</th>\n",
       "      <td>2020-01-07</td>\n",
       "      <td>61.775002</td>\n",
       "    </tr>\n",
       "  </tbody>\n",
       "</table>\n",
       "</div>"
      ],
      "text/plain": [
       "        Date  Adj_close\n",
       "0 2020-01-01  62.028301\n",
       "1 2020-01-02  61.830002\n",
       "2 2020-01-03  61.694199\n",
       "3 2020-01-06  62.029999\n",
       "4 2020-01-07  61.775002"
      ]
     },
     "execution_count": 59,
     "metadata": {},
     "output_type": "execute_result"
    }
   ],
   "source": [
    "import xgboost as xgb\n",
    "import datetime as dt\n",
    "\n",
    "data.reset_index(inplace = True)\n",
    "\n",
    "data.head()"
   ]
  },
  {
   "cell_type": "code",
   "execution_count": 60,
   "id": "9733bb90",
   "metadata": {},
   "outputs": [],
   "source": [
    "# data['Date'] = pd.to_datetime(data['Date'])\n",
    "data['hour'] = data['Date'].dt.hour\n",
    "data['dayofweek'] = data['Date'].dt.dayofweek\n",
    "data['quarter'] = data['Date'].dt.quarter\n",
    "data['month'] = data['Date'].dt.month\n",
    "data['year'] = data['Date'].dt.year\n",
    "data['dayofyear'] = data['Date'].dt.dayofyear\n",
    "data['dayofmonth'] = data['Date'].dt.day\n",
    "data['weekofyear'] = data['Date'].dt.weekofyear"
   ]
  },
  {
   "cell_type": "code",
   "execution_count": 61,
   "id": "3ab23589",
   "metadata": {},
   "outputs": [],
   "source": [
    "data1 = data.drop(columns = ['Date', 'hour'])"
   ]
  },
  {
   "cell_type": "code",
   "execution_count": 62,
   "id": "27a8f7f9",
   "metadata": {},
   "outputs": [
    {
     "data": {
      "text/html": [
       "<div>\n",
       "<style scoped>\n",
       "    .dataframe tbody tr th:only-of-type {\n",
       "        vertical-align: middle;\n",
       "    }\n",
       "\n",
       "    .dataframe tbody tr th {\n",
       "        vertical-align: top;\n",
       "    }\n",
       "\n",
       "    .dataframe thead th {\n",
       "        text-align: right;\n",
       "    }\n",
       "</style>\n",
       "<table border=\"1\" class=\"dataframe\">\n",
       "  <thead>\n",
       "    <tr style=\"text-align: right;\">\n",
       "      <th></th>\n",
       "      <th>Adj_close</th>\n",
       "      <th>dayofweek</th>\n",
       "      <th>quarter</th>\n",
       "      <th>month</th>\n",
       "      <th>year</th>\n",
       "      <th>dayofyear</th>\n",
       "      <th>dayofmonth</th>\n",
       "      <th>weekofyear</th>\n",
       "    </tr>\n",
       "  </thead>\n",
       "  <tbody>\n",
       "    <tr>\n",
       "      <th>650</th>\n",
       "      <td>53.714901</td>\n",
       "      <td>1</td>\n",
       "      <td>2</td>\n",
       "      <td>6</td>\n",
       "      <td>2022</td>\n",
       "      <td>179</td>\n",
       "      <td>28</td>\n",
       "      <td>26</td>\n",
       "    </tr>\n",
       "    <tr>\n",
       "      <th>651</th>\n",
       "      <td>52.465099</td>\n",
       "      <td>2</td>\n",
       "      <td>2</td>\n",
       "      <td>6</td>\n",
       "      <td>2022</td>\n",
       "      <td>180</td>\n",
       "      <td>29</td>\n",
       "      <td>26</td>\n",
       "    </tr>\n",
       "    <tr>\n",
       "      <th>652</th>\n",
       "      <td>54.840000</td>\n",
       "      <td>3</td>\n",
       "      <td>2</td>\n",
       "      <td>6</td>\n",
       "      <td>2022</td>\n",
       "      <td>181</td>\n",
       "      <td>30</td>\n",
       "      <td>26</td>\n",
       "    </tr>\n",
       "    <tr>\n",
       "      <th>653</th>\n",
       "      <td>53.237499</td>\n",
       "      <td>6</td>\n",
       "      <td>3</td>\n",
       "      <td>7</td>\n",
       "      <td>2022</td>\n",
       "      <td>184</td>\n",
       "      <td>3</td>\n",
       "      <td>26</td>\n",
       "    </tr>\n",
       "    <tr>\n",
       "      <th>654</th>\n",
       "      <td>56.250000</td>\n",
       "      <td>0</td>\n",
       "      <td>3</td>\n",
       "      <td>7</td>\n",
       "      <td>2022</td>\n",
       "      <td>185</td>\n",
       "      <td>4</td>\n",
       "      <td>27</td>\n",
       "    </tr>\n",
       "  </tbody>\n",
       "</table>\n",
       "</div>"
      ],
      "text/plain": [
       "     Adj_close  dayofweek  quarter  month  year  dayofyear  dayofmonth  \\\n",
       "650  53.714901          1        2      6  2022        179          28   \n",
       "651  52.465099          2        2      6  2022        180          29   \n",
       "652  54.840000          3        2      6  2022        181          30   \n",
       "653  53.237499          6        3      7  2022        184           3   \n",
       "654  56.250000          0        3      7  2022        185           4   \n",
       "\n",
       "     weekofyear  \n",
       "650          26  \n",
       "651          26  \n",
       "652          26  \n",
       "653          26  \n",
       "654          27  "
      ]
     },
     "execution_count": 62,
     "metadata": {},
     "output_type": "execute_result"
    }
   ],
   "source": [
    "data1.columns\n",
    "data1.tail(5)"
   ]
  },
  {
   "cell_type": "code",
   "execution_count": 63,
   "id": "313ef043",
   "metadata": {},
   "outputs": [],
   "source": [
    "df_train=data1[data1['year']<2022]\n",
    "x_train_xgb=df_train.drop(['Adj_close'],axis=1)\n",
    "y_train_xgb=df_train['Adj_close']"
   ]
  },
  {
   "cell_type": "code",
   "execution_count": 64,
   "id": "6ca7c137",
   "metadata": {},
   "outputs": [],
   "source": [
    "df_test=data1[data1['year']>=2022]\n",
    "x_test_xgb=df_test.drop(['Adj_close'],axis=1)\n",
    "y_test_xgb=df_test['Adj_close']"
   ]
  },
  {
   "cell_type": "code",
   "execution_count": 65,
   "id": "10a0bd21",
   "metadata": {},
   "outputs": [
    {
     "data": {
      "text/plain": [
       "523    74.986000\n",
       "524    74.371803\n",
       "525    75.263000\n",
       "526    76.661598\n",
       "527    76.353699\n",
       "         ...    \n",
       "650    53.714901\n",
       "651    52.465099\n",
       "652    54.840000\n",
       "653    53.237499\n",
       "654    56.250000\n",
       "Name: Adj_close, Length: 132, dtype: float64"
      ]
     },
     "execution_count": 65,
     "metadata": {},
     "output_type": "execute_result"
    }
   ],
   "source": [
    "y_test_xgb"
   ]
  },
  {
   "cell_type": "code",
   "execution_count": 66,
   "id": "acb55c25",
   "metadata": {},
   "outputs": [
    {
     "data": {
      "text/html": [
       "<div>\n",
       "<style scoped>\n",
       "    .dataframe tbody tr th:only-of-type {\n",
       "        vertical-align: middle;\n",
       "    }\n",
       "\n",
       "    .dataframe tbody tr th {\n",
       "        vertical-align: top;\n",
       "    }\n",
       "\n",
       "    .dataframe thead th {\n",
       "        text-align: right;\n",
       "    }\n",
       "</style>\n",
       "<table border=\"1\" class=\"dataframe\">\n",
       "  <thead>\n",
       "    <tr style=\"text-align: right;\">\n",
       "      <th></th>\n",
       "      <th>dayofweek</th>\n",
       "      <th>quarter</th>\n",
       "      <th>month</th>\n",
       "      <th>year</th>\n",
       "      <th>dayofyear</th>\n",
       "      <th>dayofmonth</th>\n",
       "      <th>weekofyear</th>\n",
       "    </tr>\n",
       "  </thead>\n",
       "  <tbody>\n",
       "    <tr>\n",
       "      <th>523</th>\n",
       "      <td>0</td>\n",
       "      <td>1</td>\n",
       "      <td>1</td>\n",
       "      <td>2022</td>\n",
       "      <td>3</td>\n",
       "      <td>3</td>\n",
       "      <td>1</td>\n",
       "    </tr>\n",
       "    <tr>\n",
       "      <th>524</th>\n",
       "      <td>1</td>\n",
       "      <td>1</td>\n",
       "      <td>1</td>\n",
       "      <td>2022</td>\n",
       "      <td>4</td>\n",
       "      <td>4</td>\n",
       "      <td>1</td>\n",
       "    </tr>\n",
       "    <tr>\n",
       "      <th>525</th>\n",
       "      <td>2</td>\n",
       "      <td>1</td>\n",
       "      <td>1</td>\n",
       "      <td>2022</td>\n",
       "      <td>5</td>\n",
       "      <td>5</td>\n",
       "      <td>1</td>\n",
       "    </tr>\n",
       "    <tr>\n",
       "      <th>526</th>\n",
       "      <td>3</td>\n",
       "      <td>1</td>\n",
       "      <td>1</td>\n",
       "      <td>2022</td>\n",
       "      <td>6</td>\n",
       "      <td>6</td>\n",
       "      <td>1</td>\n",
       "    </tr>\n",
       "    <tr>\n",
       "      <th>527</th>\n",
       "      <td>4</td>\n",
       "      <td>1</td>\n",
       "      <td>1</td>\n",
       "      <td>2022</td>\n",
       "      <td>7</td>\n",
       "      <td>7</td>\n",
       "      <td>1</td>\n",
       "    </tr>\n",
       "    <tr>\n",
       "      <th>...</th>\n",
       "      <td>...</td>\n",
       "      <td>...</td>\n",
       "      <td>...</td>\n",
       "      <td>...</td>\n",
       "      <td>...</td>\n",
       "      <td>...</td>\n",
       "      <td>...</td>\n",
       "    </tr>\n",
       "    <tr>\n",
       "      <th>650</th>\n",
       "      <td>1</td>\n",
       "      <td>2</td>\n",
       "      <td>6</td>\n",
       "      <td>2022</td>\n",
       "      <td>179</td>\n",
       "      <td>28</td>\n",
       "      <td>26</td>\n",
       "    </tr>\n",
       "    <tr>\n",
       "      <th>651</th>\n",
       "      <td>2</td>\n",
       "      <td>2</td>\n",
       "      <td>6</td>\n",
       "      <td>2022</td>\n",
       "      <td>180</td>\n",
       "      <td>29</td>\n",
       "      <td>26</td>\n",
       "    </tr>\n",
       "    <tr>\n",
       "      <th>652</th>\n",
       "      <td>3</td>\n",
       "      <td>2</td>\n",
       "      <td>6</td>\n",
       "      <td>2022</td>\n",
       "      <td>181</td>\n",
       "      <td>30</td>\n",
       "      <td>26</td>\n",
       "    </tr>\n",
       "    <tr>\n",
       "      <th>653</th>\n",
       "      <td>6</td>\n",
       "      <td>3</td>\n",
       "      <td>7</td>\n",
       "      <td>2022</td>\n",
       "      <td>184</td>\n",
       "      <td>3</td>\n",
       "      <td>26</td>\n",
       "    </tr>\n",
       "    <tr>\n",
       "      <th>654</th>\n",
       "      <td>0</td>\n",
       "      <td>3</td>\n",
       "      <td>7</td>\n",
       "      <td>2022</td>\n",
       "      <td>185</td>\n",
       "      <td>4</td>\n",
       "      <td>27</td>\n",
       "    </tr>\n",
       "  </tbody>\n",
       "</table>\n",
       "<p>132 rows × 7 columns</p>\n",
       "</div>"
      ],
      "text/plain": [
       "     dayofweek  quarter  month  year  dayofyear  dayofmonth  weekofyear\n",
       "523          0        1      1  2022          3           3           1\n",
       "524          1        1      1  2022          4           4           1\n",
       "525          2        1      1  2022          5           5           1\n",
       "526          3        1      1  2022          6           6           1\n",
       "527          4        1      1  2022          7           7           1\n",
       "..         ...      ...    ...   ...        ...         ...         ...\n",
       "650          1        2      6  2022        179          28          26\n",
       "651          2        2      6  2022        180          29          26\n",
       "652          3        2      6  2022        181          30          26\n",
       "653          6        3      7  2022        184           3          26\n",
       "654          0        3      7  2022        185           4          27\n",
       "\n",
       "[132 rows x 7 columns]"
      ]
     },
     "execution_count": 66,
     "metadata": {},
     "output_type": "execute_result"
    }
   ],
   "source": [
    "x_test_xgb"
   ]
  },
  {
   "cell_type": "code",
   "execution_count": 67,
   "id": "3d1f3a82",
   "metadata": {},
   "outputs": [],
   "source": [
    "reg = xgb.XGBRegressor(objective='reg:squarederror', n_estimators=1000)\n",
    "reg = reg.fit(x_train_xgb, y_train_xgb,verbose=False)  # Change verbose to True if you want to see it train\n",
    "yhat_xgb = reg.predict(x_test_xgb)"
   ]
  },
  {
   "cell_type": "code",
   "execution_count": 68,
   "id": "adf3102c",
   "metadata": {},
   "outputs": [],
   "source": [
    "yhat_xgb = pd.Series(yhat_xgb)"
   ]
  },
  {
   "cell_type": "code",
   "execution_count": 69,
   "id": "2b724f57",
   "metadata": {},
   "outputs": [],
   "source": [
    "#creating a dataframe to compare the actual target variable to the predicted target\n",
    "#variable\n",
    "\n",
    "Act_Pred_xgb = pd.DataFrame(columns = ['Date', 'Ya', 'Yp'])\n",
    "\n",
    "Act_Pred_xgb['Date'] = test['Date']\n",
    "\n",
    "\n",
    "Act_Pred_xgb['Yp'] = yhat_xgb\n",
    "\n",
    "Act_Pred_xgb['Ya'] = y_test_xgb.values"
   ]
  },
  {
   "cell_type": "code",
   "execution_count": 70,
   "id": "11f84b43",
   "metadata": {},
   "outputs": [
    {
     "data": {
      "text/html": [
       "<div>\n",
       "<style scoped>\n",
       "    .dataframe tbody tr th:only-of-type {\n",
       "        vertical-align: middle;\n",
       "    }\n",
       "\n",
       "    .dataframe tbody tr th {\n",
       "        vertical-align: top;\n",
       "    }\n",
       "\n",
       "    .dataframe thead th {\n",
       "        text-align: right;\n",
       "    }\n",
       "</style>\n",
       "<table border=\"1\" class=\"dataframe\">\n",
       "  <thead>\n",
       "    <tr style=\"text-align: right;\">\n",
       "      <th></th>\n",
       "      <th>Date</th>\n",
       "      <th>Ya</th>\n",
       "      <th>Yp</th>\n",
       "    </tr>\n",
       "  </thead>\n",
       "  <tbody>\n",
       "    <tr>\n",
       "      <th>0</th>\n",
       "      <td>2022-01-03</td>\n",
       "      <td>74.986000</td>\n",
       "      <td>74.162209</td>\n",
       "    </tr>\n",
       "    <tr>\n",
       "      <th>1</th>\n",
       "      <td>2022-01-04</td>\n",
       "      <td>74.371803</td>\n",
       "      <td>74.197495</td>\n",
       "    </tr>\n",
       "    <tr>\n",
       "      <th>2</th>\n",
       "      <td>2022-01-05</td>\n",
       "      <td>75.263000</td>\n",
       "      <td>74.336563</td>\n",
       "    </tr>\n",
       "    <tr>\n",
       "      <th>3</th>\n",
       "      <td>2022-01-06</td>\n",
       "      <td>76.661598</td>\n",
       "      <td>74.021324</td>\n",
       "    </tr>\n",
       "    <tr>\n",
       "      <th>4</th>\n",
       "      <td>2022-01-07</td>\n",
       "      <td>76.353699</td>\n",
       "      <td>74.142532</td>\n",
       "    </tr>\n",
       "    <tr>\n",
       "      <th>...</th>\n",
       "      <td>...</td>\n",
       "      <td>...</td>\n",
       "      <td>...</td>\n",
       "    </tr>\n",
       "    <tr>\n",
       "      <th>127</th>\n",
       "      <td>2022-06-28</td>\n",
       "      <td>53.714901</td>\n",
       "      <td>72.210068</td>\n",
       "    </tr>\n",
       "    <tr>\n",
       "      <th>128</th>\n",
       "      <td>2022-06-29</td>\n",
       "      <td>52.465099</td>\n",
       "      <td>72.736183</td>\n",
       "    </tr>\n",
       "    <tr>\n",
       "      <th>129</th>\n",
       "      <td>2022-06-30</td>\n",
       "      <td>54.840000</td>\n",
       "      <td>72.994728</td>\n",
       "    </tr>\n",
       "    <tr>\n",
       "      <th>130</th>\n",
       "      <td>2022-07-03</td>\n",
       "      <td>53.237499</td>\n",
       "      <td>72.835884</td>\n",
       "    </tr>\n",
       "    <tr>\n",
       "      <th>131</th>\n",
       "      <td>2022-07-04</td>\n",
       "      <td>56.250000</td>\n",
       "      <td>73.177361</td>\n",
       "    </tr>\n",
       "  </tbody>\n",
       "</table>\n",
       "<p>132 rows × 3 columns</p>\n",
       "</div>"
      ],
      "text/plain": [
       "          Date         Ya         Yp\n",
       "0   2022-01-03  74.986000  74.162209\n",
       "1   2022-01-04  74.371803  74.197495\n",
       "2   2022-01-05  75.263000  74.336563\n",
       "3   2022-01-06  76.661598  74.021324\n",
       "4   2022-01-07  76.353699  74.142532\n",
       "..         ...        ...        ...\n",
       "127 2022-06-28  53.714901  72.210068\n",
       "128 2022-06-29  52.465099  72.736183\n",
       "129 2022-06-30  54.840000  72.994728\n",
       "130 2022-07-03  53.237499  72.835884\n",
       "131 2022-07-04  56.250000  73.177361\n",
       "\n",
       "[132 rows x 3 columns]"
      ]
     },
     "execution_count": 70,
     "metadata": {},
     "output_type": "execute_result"
    }
   ],
   "source": [
    "Act_Pred_xgb"
   ]
  },
  {
   "cell_type": "markdown",
   "id": "58f4e2b0",
   "metadata": {},
   "source": [
    "## EVALUATION OF THE  XGBOOST MODEL"
   ]
  },
  {
   "cell_type": "code",
   "execution_count": 85,
   "id": "4016a7a9",
   "metadata": {},
   "outputs": [
    {
     "data": {
      "image/png": "[encoded data removed]",
      "text/plain": [
       "<Figure size 1440x720 with 1 Axes>"
      ]
     },
     "metadata": {
      "needs_background": "light"
     },
     "output_type": "display_data"
    },
    {
     "name": "stdout",
     "output_type": "stream",
     "text": [
      "The rmse for the XGBOOST model is: 18.853205743674273\n",
      "The MAE is : 12.451607964255594\n",
      "The mean value for actual target variable: 78.24348137595437\n"
     ]
    }
   ],
   "source": [
    "plt.figure(figsize=(20,10))\n",
    "plt.plot(Act_Pred_xgb['Date'] , Act_Pred_xgb['Yp'], color='green',  linestyle='dashed',label='Predicted rate')\n",
    "plt.plot(Act_Pred_xgb['Date'],Act_Pred_xgb['Ya'], color='red', label='Actual rate')\n",
    "plt.title('Comparison of actual and predicted rate for  XGBOOST')\n",
    "plt.xlabel('Year')\n",
    "plt.ylabel('Prices')\n",
    "plt.legend()\n",
    "plt.show()\n",
    "\n",
    "\n",
    "\n",
    "#Evalution of the model using root mean square error and the mean absolute error\n",
    "print('The rmse for the XGBOOST model is:' , rmse(yhat_xgb, y_test_xgb))\n",
    "\n",
    "\n",
    "print('The MAE is :',mean_absolute_error(yhat_xgb, y_test_xgb)\n",
    ")\n",
    "print('The mean value for actual target variable:' , y_test_xgb.mean())"
   ]
  },
  {
   "cell_type": "code",
   "execution_count": null,
   "id": "f9058223",
   "metadata": {},
   "outputs": [],
   "source": []
  }
 ],
 "metadata": {
  "kernelspec": {
   "display_name": "Python 3.9.7 ('base': conda)",
   "language": "python",
   "name": "python3"
  },
  "language_info": {
   "codemirror_mode": {
    "name": "ipython",
    "version": 3
   },
   "file_extension": ".py",
   "mimetype": "text/x-python",
   "name": "python",
   "nbconvert_exporter": "python",
   "pygments_lexer": "ipython3",
   "version": "3.9.7"
  },
  "vscode": {
   "interpreter": {
    "hash": "498f60c78cdeec0bf8c0a114e997a92801016ae6f6fb12b84eb833eb31fa7c40"
   }
  }
 },
 "nbformat": 4,
 "nbformat_minor": 5
}
